{
 "cells": [
  {
   "cell_type": "markdown",
   "metadata": {},
   "source": [
    "# <span style=\"color:cyan\"> Titanic - Machine Learning from Disaster\n",
    "### <span style=\"color:lightblue\"> DATASET obtenido desde las competiciones de kaggle.com\n",
    "\n",
    "#### <span style=\"color:#87CEEB\"> Objetivo: Usar Machine Learning para crear un modelo que prediga qué pasajeros sobrevivieron al hundimiento del Titanic.\n",
    "\n",
    "#### <span style=\"color:#87CEEB\"> La métrica que se busca mejorar es el accuracy.\n",
    "https://www.kaggle.com/competitions/titanic/overview/evaluation"
   ]
  },
  {
   "cell_type": "markdown",
   "metadata": {},
   "source": [
    "## <span style=\"color:orange\"> Librerías a utilizar"
   ]
  },
  {
   "cell_type": "code",
   "execution_count": 99,
   "metadata": {},
   "outputs": [],
   "source": [
    "# Ingesta\n",
    "import numpy as np\n",
    "import pandas as pd\n",
    "import scipy.stats as stats\n",
    "\n",
    "# Visualización\n",
    "import matplotlib.pyplot as plt\n",
    "import seaborn as sns\n",
    "sns.set_style(\"darkgrid\")\n",
    "\n",
    "# Modelación\n",
    "import statsmodels.formula.api as smf\n",
    "from imblearn.over_sampling import SMOTE\n",
    "from sklearn.model_selection import train_test_split\n",
    "from sklearn.preprocessing import StandardScaler\n",
    "from sklearn.model_selection import GridSearchCV\n",
    "from sklearn.linear_model import LogisticRegression\n",
    "from sklearn.neighbors import KNeighborsClassifier\n",
    "from sklearn.tree import DecisionTreeClassifier\n",
    "from sklearn.ensemble import RandomForestClassifier\n",
    "from sklearn.svm import SVC\n",
    "from sklearn.naive_bayes import BernoulliNB\n",
    "from sklearn.ensemble import GradientBoostingClassifier\n",
    "from sklearn.ensemble import VotingClassifier\n",
    "\n",
    "# Métricas de evaluación\n",
    "from sklearn.metrics import classification_report\n",
    "\n",
    "# Otros\n",
    "import warnings\n",
    "warnings.filterwarnings(\"ignore\")"
   ]
  },
  {
   "cell_type": "markdown",
   "metadata": {},
   "source": [
    "### <span style=\"color:orange\"> Significado de columnas:\n",
    "* PassengerId: Identificador de pasajero.\n",
    "\n",
    "* Survived: Variable Binaria. Indica si el pasajero sobrevivió (1) o no (0).\n",
    "\n",
    "* Pclass: Indica la clase del pasajero. 1era, 2da o 3ra clase.\n",
    "\n",
    "* Name: Nombre del pasajero.\n",
    "\n",
    "* Sex: Sexo del pasajero.\n",
    "\n",
    "* Age: Edad del pasajero.\n",
    "\n",
    "* SibSp: Define las relaciones familiares. Sibling = brother, sister, stepbrother, stepsister.\n",
    "                                             Spouse = husband, wife (mistresses y fiancés fueron ignoradas).\n",
    "\n",
    "* Parch: Número de padres/niños a bordo del Titanic.\n",
    "\n",
    "* Ticket: Numero del ticket.\n",
    "\n",
    "* Fare: Tarifa del pasajero.\n",
    "\n",
    "* Cabin: Número de cabina del pasajero.\n",
    "\n",
    "* Embarked: Puerto de embarque del pasajero. C = Cherbourg, Q = Queenstown, S = Southampton"
   ]
  },
  {
   "cell_type": "markdown",
   "metadata": {},
   "source": [
    "## <span style=\"color:orange\"> Carga de datasets"
   ]
  },
  {
   "cell_type": "code",
   "execution_count": 100,
   "metadata": {},
   "outputs": [],
   "source": [
    "# carga de datos\n",
    "df_train = pd.read_csv('train.csv')\n",
    "df_test = pd.read_csv('test.csv')"
   ]
  },
  {
   "cell_type": "code",
   "execution_count": 101,
   "metadata": {},
   "outputs": [
    {
     "data": {
      "text/html": [
       "<div>\n",
       "<style scoped>\n",
       "    .dataframe tbody tr th:only-of-type {\n",
       "        vertical-align: middle;\n",
       "    }\n",
       "\n",
       "    .dataframe tbody tr th {\n",
       "        vertical-align: top;\n",
       "    }\n",
       "\n",
       "    .dataframe thead th {\n",
       "        text-align: right;\n",
       "    }\n",
       "</style>\n",
       "<table border=\"1\" class=\"dataframe\">\n",
       "  <thead>\n",
       "    <tr style=\"text-align: right;\">\n",
       "      <th></th>\n",
       "      <th>PassengerId</th>\n",
       "      <th>Survived</th>\n",
       "      <th>Pclass</th>\n",
       "      <th>Name</th>\n",
       "      <th>Sex</th>\n",
       "      <th>Age</th>\n",
       "      <th>SibSp</th>\n",
       "      <th>Parch</th>\n",
       "      <th>Ticket</th>\n",
       "      <th>Fare</th>\n",
       "      <th>Cabin</th>\n",
       "      <th>Embarked</th>\n",
       "    </tr>\n",
       "  </thead>\n",
       "  <tbody>\n",
       "    <tr>\n",
       "      <th>0</th>\n",
       "      <td>1</td>\n",
       "      <td>0</td>\n",
       "      <td>3</td>\n",
       "      <td>Braund, Mr. Owen Harris</td>\n",
       "      <td>male</td>\n",
       "      <td>22.0</td>\n",
       "      <td>1</td>\n",
       "      <td>0</td>\n",
       "      <td>A/5 21171</td>\n",
       "      <td>7.2500</td>\n",
       "      <td>NaN</td>\n",
       "      <td>S</td>\n",
       "    </tr>\n",
       "    <tr>\n",
       "      <th>1</th>\n",
       "      <td>2</td>\n",
       "      <td>1</td>\n",
       "      <td>1</td>\n",
       "      <td>Cumings, Mrs. John Bradley (Florence Briggs Th...</td>\n",
       "      <td>female</td>\n",
       "      <td>38.0</td>\n",
       "      <td>1</td>\n",
       "      <td>0</td>\n",
       "      <td>PC 17599</td>\n",
       "      <td>71.2833</td>\n",
       "      <td>C85</td>\n",
       "      <td>C</td>\n",
       "    </tr>\n",
       "    <tr>\n",
       "      <th>2</th>\n",
       "      <td>3</td>\n",
       "      <td>1</td>\n",
       "      <td>3</td>\n",
       "      <td>Heikkinen, Miss. Laina</td>\n",
       "      <td>female</td>\n",
       "      <td>26.0</td>\n",
       "      <td>0</td>\n",
       "      <td>0</td>\n",
       "      <td>STON/O2. 3101282</td>\n",
       "      <td>7.9250</td>\n",
       "      <td>NaN</td>\n",
       "      <td>S</td>\n",
       "    </tr>\n",
       "    <tr>\n",
       "      <th>3</th>\n",
       "      <td>4</td>\n",
       "      <td>1</td>\n",
       "      <td>1</td>\n",
       "      <td>Futrelle, Mrs. Jacques Heath (Lily May Peel)</td>\n",
       "      <td>female</td>\n",
       "      <td>35.0</td>\n",
       "      <td>1</td>\n",
       "      <td>0</td>\n",
       "      <td>113803</td>\n",
       "      <td>53.1000</td>\n",
       "      <td>C123</td>\n",
       "      <td>S</td>\n",
       "    </tr>\n",
       "    <tr>\n",
       "      <th>4</th>\n",
       "      <td>5</td>\n",
       "      <td>0</td>\n",
       "      <td>3</td>\n",
       "      <td>Allen, Mr. William Henry</td>\n",
       "      <td>male</td>\n",
       "      <td>35.0</td>\n",
       "      <td>0</td>\n",
       "      <td>0</td>\n",
       "      <td>373450</td>\n",
       "      <td>8.0500</td>\n",
       "      <td>NaN</td>\n",
       "      <td>S</td>\n",
       "    </tr>\n",
       "  </tbody>\n",
       "</table>\n",
       "</div>"
      ],
      "text/plain": [
       "   PassengerId  Survived  Pclass  \\\n",
       "0            1         0       3   \n",
       "1            2         1       1   \n",
       "2            3         1       3   \n",
       "3            4         1       1   \n",
       "4            5         0       3   \n",
       "\n",
       "                                                Name     Sex   Age  SibSp  \\\n",
       "0                            Braund, Mr. Owen Harris    male  22.0      1   \n",
       "1  Cumings, Mrs. John Bradley (Florence Briggs Th...  female  38.0      1   \n",
       "2                             Heikkinen, Miss. Laina  female  26.0      0   \n",
       "3       Futrelle, Mrs. Jacques Heath (Lily May Peel)  female  35.0      1   \n",
       "4                           Allen, Mr. William Henry    male  35.0      0   \n",
       "\n",
       "   Parch            Ticket     Fare Cabin Embarked  \n",
       "0      0         A/5 21171   7.2500   NaN        S  \n",
       "1      0          PC 17599  71.2833   C85        C  \n",
       "2      0  STON/O2. 3101282   7.9250   NaN        S  \n",
       "3      0            113803  53.1000  C123        S  \n",
       "4      0            373450   8.0500   NaN        S  "
      ]
     },
     "metadata": {},
     "output_type": "display_data"
    },
    {
     "data": {
      "text/plain": [
       "(891, 12)"
      ]
     },
     "execution_count": 101,
     "metadata": {},
     "output_type": "execute_result"
    }
   ],
   "source": [
    "# df_train\n",
    "display(df_train.head())\n",
    "df_train.shape"
   ]
  },
  {
   "cell_type": "code",
   "execution_count": 102,
   "metadata": {},
   "outputs": [
    {
     "data": {
      "text/html": [
       "<div>\n",
       "<style scoped>\n",
       "    .dataframe tbody tr th:only-of-type {\n",
       "        vertical-align: middle;\n",
       "    }\n",
       "\n",
       "    .dataframe tbody tr th {\n",
       "        vertical-align: top;\n",
       "    }\n",
       "\n",
       "    .dataframe thead th {\n",
       "        text-align: right;\n",
       "    }\n",
       "</style>\n",
       "<table border=\"1\" class=\"dataframe\">\n",
       "  <thead>\n",
       "    <tr style=\"text-align: right;\">\n",
       "      <th></th>\n",
       "      <th>PassengerId</th>\n",
       "      <th>Pclass</th>\n",
       "      <th>Name</th>\n",
       "      <th>Sex</th>\n",
       "      <th>Age</th>\n",
       "      <th>SibSp</th>\n",
       "      <th>Parch</th>\n",
       "      <th>Ticket</th>\n",
       "      <th>Fare</th>\n",
       "      <th>Cabin</th>\n",
       "      <th>Embarked</th>\n",
       "    </tr>\n",
       "  </thead>\n",
       "  <tbody>\n",
       "    <tr>\n",
       "      <th>0</th>\n",
       "      <td>892</td>\n",
       "      <td>3</td>\n",
       "      <td>Kelly, Mr. James</td>\n",
       "      <td>male</td>\n",
       "      <td>34.5</td>\n",
       "      <td>0</td>\n",
       "      <td>0</td>\n",
       "      <td>330911</td>\n",
       "      <td>7.8292</td>\n",
       "      <td>NaN</td>\n",
       "      <td>Q</td>\n",
       "    </tr>\n",
       "    <tr>\n",
       "      <th>1</th>\n",
       "      <td>893</td>\n",
       "      <td>3</td>\n",
       "      <td>Wilkes, Mrs. James (Ellen Needs)</td>\n",
       "      <td>female</td>\n",
       "      <td>47.0</td>\n",
       "      <td>1</td>\n",
       "      <td>0</td>\n",
       "      <td>363272</td>\n",
       "      <td>7.0000</td>\n",
       "      <td>NaN</td>\n",
       "      <td>S</td>\n",
       "    </tr>\n",
       "    <tr>\n",
       "      <th>2</th>\n",
       "      <td>894</td>\n",
       "      <td>2</td>\n",
       "      <td>Myles, Mr. Thomas Francis</td>\n",
       "      <td>male</td>\n",
       "      <td>62.0</td>\n",
       "      <td>0</td>\n",
       "      <td>0</td>\n",
       "      <td>240276</td>\n",
       "      <td>9.6875</td>\n",
       "      <td>NaN</td>\n",
       "      <td>Q</td>\n",
       "    </tr>\n",
       "    <tr>\n",
       "      <th>3</th>\n",
       "      <td>895</td>\n",
       "      <td>3</td>\n",
       "      <td>Wirz, Mr. Albert</td>\n",
       "      <td>male</td>\n",
       "      <td>27.0</td>\n",
       "      <td>0</td>\n",
       "      <td>0</td>\n",
       "      <td>315154</td>\n",
       "      <td>8.6625</td>\n",
       "      <td>NaN</td>\n",
       "      <td>S</td>\n",
       "    </tr>\n",
       "    <tr>\n",
       "      <th>4</th>\n",
       "      <td>896</td>\n",
       "      <td>3</td>\n",
       "      <td>Hirvonen, Mrs. Alexander (Helga E Lindqvist)</td>\n",
       "      <td>female</td>\n",
       "      <td>22.0</td>\n",
       "      <td>1</td>\n",
       "      <td>1</td>\n",
       "      <td>3101298</td>\n",
       "      <td>12.2875</td>\n",
       "      <td>NaN</td>\n",
       "      <td>S</td>\n",
       "    </tr>\n",
       "  </tbody>\n",
       "</table>\n",
       "</div>"
      ],
      "text/plain": [
       "   PassengerId  Pclass                                          Name     Sex  \\\n",
       "0          892       3                              Kelly, Mr. James    male   \n",
       "1          893       3              Wilkes, Mrs. James (Ellen Needs)  female   \n",
       "2          894       2                     Myles, Mr. Thomas Francis    male   \n",
       "3          895       3                              Wirz, Mr. Albert    male   \n",
       "4          896       3  Hirvonen, Mrs. Alexander (Helga E Lindqvist)  female   \n",
       "\n",
       "    Age  SibSp  Parch   Ticket     Fare Cabin Embarked  \n",
       "0  34.5      0      0   330911   7.8292   NaN        Q  \n",
       "1  47.0      1      0   363272   7.0000   NaN        S  \n",
       "2  62.0      0      0   240276   9.6875   NaN        Q  \n",
       "3  27.0      0      0   315154   8.6625   NaN        S  \n",
       "4  22.0      1      1  3101298  12.2875   NaN        S  "
      ]
     },
     "metadata": {},
     "output_type": "display_data"
    },
    {
     "data": {
      "text/plain": [
       "(418, 11)"
      ]
     },
     "execution_count": 102,
     "metadata": {},
     "output_type": "execute_result"
    }
   ],
   "source": [
    "# df_test\n",
    "display(df_test.head())\n",
    "df_test.shape"
   ]
  },
  {
   "cell_type": "markdown",
   "metadata": {},
   "source": [
    "    Este dataset no contiene el vector objetivo 'Survived', ya que será el utilizado para predecir los valores."
   ]
  },
  {
   "cell_type": "markdown",
   "metadata": {},
   "source": [
    "## <span style=\"color:orange\"> Análisis vector objetivo"
   ]
  },
  {
   "cell_type": "markdown",
   "metadata": {},
   "source": [
    "### <span style=\"color:#87CEEB\"> Valores únicos"
   ]
  },
  {
   "cell_type": "code",
   "execution_count": 103,
   "metadata": {},
   "outputs": [
    {
     "name": "stdout",
     "output_type": "stream",
     "text": [
      "df_train:\n",
      " [0 1] \n",
      " ------------\n"
     ]
    }
   ],
   "source": [
    "# valores únicos\n",
    "print(f'df_train:\\n', df_train['Survived'].unique(),'\\n','-'*12)"
   ]
  },
  {
   "cell_type": "markdown",
   "metadata": {},
   "source": [
    "    Se observa que los valores calzan con lo descrito en el apartado de significado de las variables."
   ]
  },
  {
   "cell_type": "markdown",
   "metadata": {},
   "source": [
    "### <span style=\"color:#87CEEB\"> Cantidad de nulos"
   ]
  },
  {
   "cell_type": "code",
   "execution_count": 104,
   "metadata": {},
   "outputs": [
    {
     "data": {
      "text/plain": [
       "False    891\n",
       "Name: Survived, dtype: int64"
      ]
     },
     "execution_count": 104,
     "metadata": {},
     "output_type": "execute_result"
    }
   ],
   "source": [
    "# presencia de nulos\n",
    "df_train['Survived'].isna().value_counts()"
   ]
  },
  {
   "cell_type": "markdown",
   "metadata": {},
   "source": [
    "### <span style=\"color:#87CEEB\"> Distribución de observaciones"
   ]
  },
  {
   "cell_type": "code",
   "execution_count": 105,
   "metadata": {},
   "outputs": [
    {
     "name": "stdout",
     "output_type": "stream",
     "text": [
      "df_train:\n",
      " 0    549\n",
      "1    342\n",
      "Name: Survived, dtype: int64 \n",
      " ------------------------------\n"
     ]
    },
    {
     "data": {
      "image/png": "[encoded data removed]",
      "text/plain": [
       "<Figure size 640x480 with 1 Axes>"
      ]
     },
     "metadata": {},
     "output_type": "display_data"
    }
   ],
   "source": [
    "print(f'df_train:\\n', df_train['Survived'].value_counts(),'\\n','-'*30)\n",
    "\n",
    "ax = sns.countplot(x=df_train['Survived'])\n",
    "for p in ax.patches:\n",
    "    ax.annotate(f'{int(p.get_height())}', (p.get_x() + p.get_width() / 2., p.get_height()),\n",
    "                ha='center', va='center', fontsize=10, color='black', xytext=(0, 3), textcoords='offset points')\n",
    "plt.xlabel('Valor')\n",
    "plt.ylabel('Frecuencia')\n",
    "plt.title('Distribución de Survived')\n",
    "plt.show()"
   ]
  },
  {
   "cell_type": "markdown",
   "metadata": {},
   "source": [
    "    Se observa un desbalance entre las clases, en donde la mayoritaria corresponde a '0'. Esta etiqueta indica que el pasajero no sobrevivió."
   ]
  },
  {
   "cell_type": "markdown",
   "metadata": {},
   "source": [
    "## <span style=\"color:orange\"> Análisis de nulos en los atributos"
   ]
  },
  {
   "cell_type": "code",
   "execution_count": 106,
   "metadata": {},
   "outputs": [
    {
     "name": "stdout",
     "output_type": "stream",
     "text": [
      "<class 'pandas.core.frame.DataFrame'>\n",
      "RangeIndex: 891 entries, 0 to 890\n",
      "Data columns (total 11 columns):\n",
      " #   Column       Non-Null Count  Dtype  \n",
      "---  ------       --------------  -----  \n",
      " 0   PassengerId  891 non-null    int64  \n",
      " 1   Pclass       891 non-null    int64  \n",
      " 2   Name         891 non-null    object \n",
      " 3   Sex          891 non-null    object \n",
      " 4   Age          714 non-null    float64\n",
      " 5   SibSp        891 non-null    int64  \n",
      " 6   Parch        891 non-null    int64  \n",
      " 7   Ticket       891 non-null    object \n",
      " 8   Fare         891 non-null    float64\n",
      " 9   Cabin        204 non-null    object \n",
      " 10  Embarked     889 non-null    object \n",
      "dtypes: float64(2), int64(4), object(5)\n",
      "memory usage: 76.7+ KB\n"
     ]
    }
   ],
   "source": [
    "df_train.drop('Survived', axis=1).info()"
   ]
  },
  {
   "cell_type": "code",
   "execution_count": 107,
   "metadata": {},
   "outputs": [
    {
     "name": "stdout",
     "output_type": "stream",
     "text": [
      "<class 'pandas.core.frame.DataFrame'>\n",
      "RangeIndex: 418 entries, 0 to 417\n",
      "Data columns (total 11 columns):\n",
      " #   Column       Non-Null Count  Dtype  \n",
      "---  ------       --------------  -----  \n",
      " 0   PassengerId  418 non-null    int64  \n",
      " 1   Pclass       418 non-null    int64  \n",
      " 2   Name         418 non-null    object \n",
      " 3   Sex          418 non-null    object \n",
      " 4   Age          332 non-null    float64\n",
      " 5   SibSp        418 non-null    int64  \n",
      " 6   Parch        418 non-null    int64  \n",
      " 7   Ticket       418 non-null    object \n",
      " 8   Fare         417 non-null    float64\n",
      " 9   Cabin        91 non-null     object \n",
      " 10  Embarked     418 non-null    object \n",
      "dtypes: float64(2), int64(4), object(5)\n",
      "memory usage: 36.0+ KB\n"
     ]
    }
   ],
   "source": [
    "df_test.info()"
   ]
  },
  {
   "cell_type": "markdown",
   "metadata": {},
   "source": [
    "### <span style=\"color:#87CEEB\"> Cantidad de nulos"
   ]
  },
  {
   "cell_type": "code",
   "execution_count": 108,
   "metadata": {},
   "outputs": [],
   "source": [
    "def graficar_nulos(data, var:str):\n",
    "    ''' \n",
    "    Ingresa un dataframe y la variable a graficar     \n",
    "    '''\n",
    "    null_counts_genre = data[var].isna().value_counts()\n",
    "    plt.figure(figsize=(3, 4))\n",
    "    plt.bar(['No nulos', 'Nulos'], null_counts_genre, color=['goldenrod', 'red'])\n",
    "    plt.title(f\"Distribución de nulos en {var}\")\n",
    "    plt.ylabel('Cantidad')\n",
    "\n",
    "    for i, count in enumerate(null_counts_genre):\n",
    "        plt.text(i, count, str(count), ha='center', va='bottom')"
   ]
  },
  {
   "cell_type": "code",
   "execution_count": 109,
   "metadata": {},
   "outputs": [
    {
     "data": {
      "text/plain": [
       "PassengerId      0\n",
       "Pclass           0\n",
       "Name             0\n",
       "Sex              0\n",
       "Age            177\n",
       "SibSp            0\n",
       "Parch            0\n",
       "Ticket           0\n",
       "Fare             0\n",
       "Cabin          687\n",
       "Embarked         2\n",
       "dtype: int64"
      ]
     },
     "execution_count": 109,
     "metadata": {},
     "output_type": "execute_result"
    }
   ],
   "source": [
    "# Para df_train\n",
    "df_train.drop('Survived', axis=1).isnull().sum()"
   ]
  },
  {
   "cell_type": "code",
   "execution_count": 110,
   "metadata": {},
   "outputs": [
    {
     "data": {
      "text/plain": [
       "PassengerId      0\n",
       "Pclass           0\n",
       "Name             0\n",
       "Sex              0\n",
       "Age             86\n",
       "SibSp            0\n",
       "Parch            0\n",
       "Ticket           0\n",
       "Fare             1\n",
       "Cabin          327\n",
       "Embarked         0\n",
       "dtype: int64"
      ]
     },
     "execution_count": 110,
     "metadata": {},
     "output_type": "execute_result"
    }
   ],
   "source": [
    "# Para df_test\n",
    "df_test.isnull().sum()"
   ]
  },
  {
   "cell_type": "markdown",
   "metadata": {},
   "source": [
    "### <span style=\"color:#87CEEB\"> Exploración de nulos en atributos 'Age' para df_train y df_test"
   ]
  },
  {
   "cell_type": "code",
   "execution_count": 111,
   "metadata": {},
   "outputs": [],
   "source": [
    "def cant_nulos(data, var:str):\n",
    "    print('Valores únicos:\\n', data[var].unique())\n",
    "    print('\\nNulos:', data[var].isnull().sum())\n",
    "\n",
    "    porcentaje_nulos = (data[var].isnull().sum() / len(data)) * 100\n",
    "    print(f\"Porcentaje nulos: {porcentaje_nulos:.2f}%\")"
   ]
  },
  {
   "cell_type": "code",
   "execution_count": 112,
   "metadata": {},
   "outputs": [
    {
     "name": "stdout",
     "output_type": "stream",
     "text": [
      "Valores únicos:\n",
      " [22.   38.   26.   35.     nan 54.    2.   27.   14.    4.   58.   20.\n",
      " 39.   55.   31.   34.   15.   28.    8.   19.   40.   66.   42.   21.\n",
      " 18.    3.    7.   49.   29.   65.   28.5   5.   11.   45.   17.   32.\n",
      " 16.   25.    0.83 30.   33.   23.   24.   46.   59.   71.   37.   47.\n",
      " 14.5  70.5  32.5  12.    9.   36.5  51.   55.5  40.5  44.    1.   61.\n",
      " 56.   50.   36.   45.5  20.5  62.   41.   52.   63.   23.5   0.92 43.\n",
      " 60.   10.   64.   13.   48.    0.75 53.   57.   80.   70.   24.5   6.\n",
      "  0.67 30.5   0.42 34.5  74.  ]\n",
      "\n",
      "Nulos: 177\n",
      "Porcentaje nulos: 19.87%\n"
     ]
    }
   ],
   "source": [
    "cant_nulos(df_train, 'Age')"
   ]
  },
  {
   "cell_type": "code",
   "execution_count": 113,
   "metadata": {},
   "outputs": [
    {
     "data": {
      "image/png": "[encoded data removed]",
      "text/plain": [
       "<Figure size 300x400 with 1 Axes>"
      ]
     },
     "metadata": {},
     "output_type": "display_data"
    }
   ],
   "source": [
    "graficar_nulos(df_train, 'Age')"
   ]
  },
  {
   "cell_type": "markdown",
   "metadata": {},
   "source": [
    "    Se observa que existen valores menores a 1 y 177 valores nulos en df_train"
   ]
  },
  {
   "cell_type": "code",
   "execution_count": 114,
   "metadata": {},
   "outputs": [
    {
     "name": "stdout",
     "output_type": "stream",
     "text": [
      "Valores únicos:\n",
      " [34.5  47.   62.   27.   22.   14.   30.   26.   18.   21.     nan 46.\n",
      " 23.   63.   24.   35.   45.   55.    9.   48.   50.   22.5  41.   33.\n",
      " 18.5  25.   39.   60.   36.   20.   28.   10.   17.   32.   13.   31.\n",
      " 29.   28.5  32.5   6.   67.   49.    2.   76.   43.   16.    1.   12.\n",
      " 42.   53.   26.5  40.   61.   60.5   7.   15.   54.   64.   37.   34.\n",
      " 11.5   8.    0.33 38.   57.   40.5   0.92 19.   36.5   0.75  0.83 58.\n",
      "  0.17 59.   14.5  44.    5.   51.    3.   38.5 ]\n",
      "\n",
      "Nulos: 86\n",
      "Porcentaje nulos: 20.57%\n"
     ]
    }
   ],
   "source": [
    "cant_nulos(df_test, 'Age')"
   ]
  },
  {
   "cell_type": "code",
   "execution_count": 115,
   "metadata": {},
   "outputs": [
    {
     "data": {
      "image/png": "[encoded data removed]",
      "text/plain": [
       "<Figure size 300x400 with 1 Axes>"
      ]
     },
     "metadata": {},
     "output_type": "display_data"
    }
   ],
   "source": [
    "graficar_nulos(df_test, 'Age')"
   ]
  },
  {
   "cell_type": "markdown",
   "metadata": {},
   "source": [
    "    Se observa que existen valores menores a 1 y 86 valores nulos en df_train"
   ]
  },
  {
   "cell_type": "code",
   "execution_count": 116,
   "metadata": {},
   "outputs": [],
   "source": [
    "# Imputación de los valores menores que 1 y NaN con la moda\n",
    "df_train['Age'] = np.where((df_train['Age'] < 1) | df_train['Age'].isnull(), df_train['Age'].mode()[0], df_train['Age'])\n",
    "df_test['Age'] = np.where((df_test['Age'] < 1) | df_test['Age'].isnull(), df_test['Age'].mode()[0], df_test['Age'])\n"
   ]
  },
  {
   "cell_type": "code",
   "execution_count": 117,
   "metadata": {},
   "outputs": [
    {
     "name": "stdout",
     "output_type": "stream",
     "text": [
      "Valores únicos:\n",
      " [22.  38.  26.  35.  24.  54.   2.  27.  14.   4.  58.  20.  39.  55.\n",
      " 31.  34.  15.  28.   8.  19.  40.  66.  42.  21.  18.   3.   7.  49.\n",
      " 29.  65.  28.5  5.  11.  45.  17.  32.  16.  25.  30.  33.  23.  46.\n",
      " 59.  71.  37.  47.  14.5 70.5 32.5 12.   9.  36.5 51.  55.5 40.5 44.\n",
      "  1.  61.  56.  50.  36.  45.5 20.5 62.  41.  52.  63.  23.5 43.  60.\n",
      " 10.  64.  13.  48.  53.  57.  80.  70.  24.5  6.  30.5 34.5 74. ]\n",
      "\n",
      "Nulos: 0\n",
      "Porcentaje nulos: 0.00%\n"
     ]
    }
   ],
   "source": [
    "# Verificación de correcta imputación en df_train\n",
    "cant_nulos(df_train, 'Age')"
   ]
  },
  {
   "cell_type": "code",
   "execution_count": 118,
   "metadata": {},
   "outputs": [
    {
     "name": "stdout",
     "output_type": "stream",
     "text": [
      "Valores únicos:\n",
      " [34.5 47.  62.  27.  22.  14.  30.  26.  18.  21.  46.  23.  63.  24.\n",
      " 35.  45.  55.   9.  48.  50.  22.5 41.  33.  18.5 25.  39.  60.  36.\n",
      " 20.  28.  10.  17.  32.  13.  31.  29.  28.5 32.5  6.  67.  49.   2.\n",
      " 76.  43.  16.   1.  12.  42.  53.  26.5 40.  61.  60.5  7.  15.  54.\n",
      " 64.  37.  34.  11.5  8.  38.  57.  40.5 19.  36.5 58.  59.  14.5 44.\n",
      "  5.  51.   3.  38.5]\n",
      "\n",
      "Nulos: 0\n",
      "Porcentaje nulos: 0.00%\n"
     ]
    }
   ],
   "source": [
    "# Verificación de correcta imputación en df_test\n",
    "cant_nulos(df_test, 'Age')"
   ]
  },
  {
   "cell_type": "markdown",
   "metadata": {},
   "source": [
    "### <span style=\"color:#87CEEB\"> Exploración de nulos en atributos 'Fare' en df_test"
   ]
  },
  {
   "cell_type": "code",
   "execution_count": 119,
   "metadata": {},
   "outputs": [
    {
     "name": "stdout",
     "output_type": "stream",
     "text": [
      "Valores únicos:\n",
      " [  7.8292   7.       9.6875   8.6625  12.2875   9.225    7.6292  29.\n",
      "   7.2292  24.15     7.8958  26.      82.2667  61.175   27.7208  12.35\n",
      "   7.225    7.925   59.4      3.1708  31.6833  61.3792 262.375   14.5\n",
      "  61.9792  30.5     21.6792  31.5     20.575   23.45    57.75     8.05\n",
      "   9.5     56.4958  13.4167  26.55     7.85    13.      52.5542  29.7\n",
      "   7.75    76.2917  15.9     60.      15.0333  23.     263.      15.5792\n",
      "  29.125    7.65    16.1     13.5      7.725   21.       7.8792  42.4\n",
      "  28.5375 211.5     25.7     15.2458 221.7792  10.7083  14.4542  13.9\n",
      "   7.775   52.       7.7958  78.85     7.8542  55.4417   8.5167  22.525\n",
      "   7.8208   8.7125  15.0458   7.7792  31.6792   7.2833   6.4375  16.7\n",
      "  75.2417  15.75     7.25    23.25    28.5     25.4667  46.9    151.55\n",
      "  18.      51.8625  83.1583      nan  12.1833  31.3875   7.55    13.775\n",
      "   7.7333  22.025   50.4958  34.375    8.9625  39.      36.75    53.1\n",
      " 247.5208  16.      69.55    32.5    134.5     10.5      8.1125  15.5\n",
      "  14.4    227.525   25.7417   7.05    73.5     42.5    164.8667  13.8583\n",
      "  27.4458  15.1     65.       6.4958  71.2833  75.25   106.425   30.\n",
      "   7.8875  27.75   136.7792   9.325   17.4     12.7375   0.      20.2125\n",
      "  39.6      6.95    81.8583  41.5792  45.5      9.35    93.5     14.1083\n",
      "   7.575  135.6333 146.5208 211.3375  79.2     15.7417   7.5792 512.3292\n",
      "  63.3583  51.4792  15.55    37.0042  14.4583  39.6875  11.5     50.\n",
      "  12.875   21.075   39.4     20.25    47.1     13.8625   7.7208  90.\n",
      " 108.9     22.3583]\n",
      "\n",
      "Nulos: 1\n",
      "Porcentaje nulos: 0.24%\n"
     ]
    }
   ],
   "source": [
    "# Verificación de correcta imputación en df_test\n",
    "cant_nulos(df_test, 'Fare')"
   ]
  },
  {
   "cell_type": "code",
   "execution_count": 120,
   "metadata": {},
   "outputs": [
    {
     "data": {
      "image/png": "[encoded data removed]",
      "text/plain": [
       "<Figure size 300x400 with 1 Axes>"
      ]
     },
     "metadata": {},
     "output_type": "display_data"
    }
   ],
   "source": [
    "graficar_nulos(df_test, 'Fare')"
   ]
  },
  {
   "cell_type": "markdown",
   "metadata": {},
   "source": [
    "    Se reemplazará el valor nulo por la moda."
   ]
  },
  {
   "cell_type": "code",
   "execution_count": 121,
   "metadata": {},
   "outputs": [
    {
     "name": "stdout",
     "output_type": "stream",
     "text": [
      "Nulos: 0\n"
     ]
    }
   ],
   "source": [
    "df_test['Fare'] = np.where(df_test['Fare'].isnull(), df_test['Fare'].mode()[0], df_test['Fare'])\n",
    "\n",
    "print('Nulos:', df_test['Fare'].isnull().sum())"
   ]
  },
  {
   "cell_type": "markdown",
   "metadata": {},
   "source": [
    "### <span style=\"color:#87CEEB\"> Exploración de nulos en atributos 'Cabin' en df_train y df_test"
   ]
  },
  {
   "cell_type": "code",
   "execution_count": 122,
   "metadata": {},
   "outputs": [
    {
     "name": "stdout",
     "output_type": "stream",
     "text": [
      "Valores únicos:\n",
      " [nan 'C85' 'C123' 'E46' 'G6' 'C103' 'D56' 'A6' 'C23 C25 C27' 'B78' 'D33'\n",
      " 'B30' 'C52' 'B28' 'C83' 'F33' 'F G73' 'E31' 'A5' 'D10 D12' 'D26' 'C110'\n",
      " 'B58 B60' 'E101' 'F E69' 'D47' 'B86' 'F2' 'C2' 'E33' 'B19' 'A7' 'C49'\n",
      " 'F4' 'A32' 'B4' 'B80' 'A31' 'D36' 'D15' 'C93' 'C78' 'D35' 'C87' 'B77'\n",
      " 'E67' 'B94' 'C125' 'C99' 'C118' 'D7' 'A19' 'B49' 'D' 'C22 C26' 'C106'\n",
      " 'C65' 'E36' 'C54' 'B57 B59 B63 B66' 'C7' 'E34' 'C32' 'B18' 'C124' 'C91'\n",
      " 'E40' 'T' 'C128' 'D37' 'B35' 'E50' 'C82' 'B96 B98' 'E10' 'E44' 'A34'\n",
      " 'C104' 'C111' 'C92' 'E38' 'D21' 'E12' 'E63' 'A14' 'B37' 'C30' 'D20' 'B79'\n",
      " 'E25' 'D46' 'B73' 'C95' 'B38' 'B39' 'B22' 'C86' 'C70' 'A16' 'C101' 'C68'\n",
      " 'A10' 'E68' 'B41' 'A20' 'D19' 'D50' 'D9' 'A23' 'B50' 'A26' 'D48' 'E58'\n",
      " 'C126' 'B71' 'B51 B53 B55' 'D49' 'B5' 'B20' 'F G63' 'C62 C64' 'E24' 'C90'\n",
      " 'C45' 'E8' 'B101' 'D45' 'C46' 'D30' 'E121' 'D11' 'E77' 'F38' 'B3' 'D6'\n",
      " 'B82 B84' 'D17' 'A36' 'B102' 'B69' 'E49' 'C47' 'D28' 'E17' 'A24' 'C50'\n",
      " 'B42' 'C148']\n",
      "\n",
      "Nulos: 687\n",
      "Porcentaje nulos: 77.10%\n"
     ]
    }
   ],
   "source": [
    "cant_nulos(df_train, 'Cabin')"
   ]
  },
  {
   "cell_type": "code",
   "execution_count": 123,
   "metadata": {},
   "outputs": [
    {
     "data": {
      "image/png": "[encoded data removed]",
      "text/plain": [
       "<Figure size 300x400 with 1 Axes>"
      ]
     },
     "metadata": {},
     "output_type": "display_data"
    }
   ],
   "source": [
    "graficar_nulos(df_train, 'Cabin')"
   ]
  },
  {
   "cell_type": "code",
   "execution_count": 124,
   "metadata": {},
   "outputs": [
    {
     "name": "stdout",
     "output_type": "stream",
     "text": [
      "Valores únicos:\n",
      " [nan 'B45' 'E31' 'B57 B59 B63 B66' 'B36' 'A21' 'C78' 'D34' 'D19' 'A9'\n",
      " 'D15' 'C31' 'C23 C25 C27' 'F G63' 'B61' 'C53' 'D43' 'C130' 'C132' 'C101'\n",
      " 'C55 C57' 'B71' 'C46' 'C116' 'F' 'A29' 'G6' 'C6' 'C28' 'C51' 'E46' 'C54'\n",
      " 'C97' 'D22' 'B10' 'F4' 'E45' 'E52' 'D30' 'B58 B60' 'E34' 'C62 C64' 'A11'\n",
      " 'B11' 'C80' 'F33' 'C85' 'D37' 'C86' 'D21' 'C89' 'F E46' 'A34' 'D' 'B26'\n",
      " 'C22 C26' 'B69' 'C32' 'B78' 'F E57' 'F2' 'A18' 'C106' 'B51 B53 B55'\n",
      " 'D10 D12' 'E60' 'E50' 'E39 E41' 'B52 B54 B56' 'C39' 'B24' 'D28' 'B41'\n",
      " 'C7' 'D40' 'D38' 'C105']\n",
      "\n",
      "Nulos: 327\n",
      "Porcentaje nulos: 78.23%\n"
     ]
    }
   ],
   "source": [
    "cant_nulos(df_test, 'Cabin')"
   ]
  },
  {
   "cell_type": "code",
   "execution_count": 125,
   "metadata": {},
   "outputs": [
    {
     "data": {
      "image/png": "[encoded data removed]",
      "text/plain": [
       "<Figure size 300x400 with 1 Axes>"
      ]
     },
     "metadata": {},
     "output_type": "display_data"
    }
   ],
   "source": [
    "graficar_nulos(df_test, 'Cabin')"
   ]
  },
  {
   "cell_type": "markdown",
   "metadata": {},
   "source": [
    "    Según mi criterio y por simplicidad esta variable no tiene importancia para este estudio por lo que se eliminará de ambos datasets (df_train y df_test)."
   ]
  },
  {
   "cell_type": "code",
   "execution_count": 126,
   "metadata": {},
   "outputs": [
    {
     "data": {
      "text/plain": [
       "(891, 11)"
      ]
     },
     "metadata": {},
     "output_type": "display_data"
    },
    {
     "data": {
      "text/plain": [
       "(418, 10)"
      ]
     },
     "metadata": {},
     "output_type": "display_data"
    }
   ],
   "source": [
    "df_train = df_train.copy().drop('Cabin', axis=1)\n",
    "df_test = df_test.copy().drop('Cabin', axis=1)\n",
    "\n",
    "display(df_train.shape)\n",
    "display(df_test.shape)"
   ]
  },
  {
   "cell_type": "markdown",
   "metadata": {},
   "source": [
    "### <span style=\"color:#87CEEB\"> Exploración de nulos en atributos 'Embarked' en df_train"
   ]
  },
  {
   "cell_type": "code",
   "execution_count": 127,
   "metadata": {},
   "outputs": [
    {
     "name": "stdout",
     "output_type": "stream",
     "text": [
      "Valores únicos:\n",
      " ['S' 'C' 'Q' nan]\n",
      "\n",
      "Nulos: 2\n",
      "Porcentaje nulos: 0.22%\n"
     ]
    }
   ],
   "source": [
    "# para df_train\n",
    "cant_nulos(df_train, 'Embarked')"
   ]
  },
  {
   "cell_type": "code",
   "execution_count": 128,
   "metadata": {},
   "outputs": [
    {
     "data": {
      "image/png": "[encoded data removed]",
      "text/plain": [
       "<Figure size 300x400 with 1 Axes>"
      ]
     },
     "metadata": {},
     "output_type": "display_data"
    }
   ],
   "source": [
    "graficar_nulos(df_train, 'Embarked')"
   ]
  },
  {
   "cell_type": "code",
   "execution_count": 129,
   "metadata": {},
   "outputs": [],
   "source": [
    "# Semilla para replicar resultados\n",
    "np.random.seed(42)\n",
    "\n",
    "# Rellena los valores nulos en 'Embarked' con valores aleatorios usando la semilla\n",
    "df_train.loc[df_train['Embarked'].isnull(), 'Embarked'] = np.random.choice(['S', 'C', 'Q'], size=df_train['Embarked'].isnull().sum())"
   ]
  },
  {
   "cell_type": "code",
   "execution_count": 130,
   "metadata": {},
   "outputs": [
    {
     "name": "stdout",
     "output_type": "stream",
     "text": [
      "Valores únicos:\n",
      " ['S' 'C' 'Q']\n",
      "\n",
      "Nulos: 0\n",
      "Porcentaje nulos: 0.00%\n"
     ]
    }
   ],
   "source": [
    "# Verificación de correcta imputación\n",
    "cant_nulos(df_train, 'Embarked')"
   ]
  },
  {
   "cell_type": "markdown",
   "metadata": {},
   "source": [
    "### <span style=\"color:#87CEEB\"> Nueva comprobación de nulos en atributos"
   ]
  },
  {
   "cell_type": "code",
   "execution_count": 131,
   "metadata": {},
   "outputs": [
    {
     "data": {
      "text/plain": [
       "PassengerId    0\n",
       "Pclass         0\n",
       "Name           0\n",
       "Sex            0\n",
       "Age            0\n",
       "SibSp          0\n",
       "Parch          0\n",
       "Ticket         0\n",
       "Fare           0\n",
       "Embarked       0\n",
       "dtype: int64"
      ]
     },
     "execution_count": 131,
     "metadata": {},
     "output_type": "execute_result"
    }
   ],
   "source": [
    "df_train.drop('Survived', axis=1).isnull().sum()"
   ]
  },
  {
   "cell_type": "code",
   "execution_count": 132,
   "metadata": {},
   "outputs": [
    {
     "data": {
      "text/plain": [
       "PassengerId    0\n",
       "Pclass         0\n",
       "Name           0\n",
       "Sex            0\n",
       "Age            0\n",
       "SibSp          0\n",
       "Parch          0\n",
       "Ticket         0\n",
       "Fare           0\n",
       "Embarked       0\n",
       "dtype: int64"
      ]
     },
     "execution_count": 132,
     "metadata": {},
     "output_type": "execute_result"
    }
   ],
   "source": [
    "df_test.isnull().sum()"
   ]
  },
  {
   "cell_type": "code",
   "execution_count": 133,
   "metadata": {},
   "outputs": [
    {
     "data": {
      "text/html": [
       "<div>\n",
       "<style scoped>\n",
       "    .dataframe tbody tr th:only-of-type {\n",
       "        vertical-align: middle;\n",
       "    }\n",
       "\n",
       "    .dataframe tbody tr th {\n",
       "        vertical-align: top;\n",
       "    }\n",
       "\n",
       "    .dataframe thead th {\n",
       "        text-align: right;\n",
       "    }\n",
       "</style>\n",
       "<table border=\"1\" class=\"dataframe\">\n",
       "  <thead>\n",
       "    <tr style=\"text-align: right;\">\n",
       "      <th></th>\n",
       "      <th>PassengerId</th>\n",
       "      <th>Survived</th>\n",
       "      <th>Pclass</th>\n",
       "      <th>Name</th>\n",
       "      <th>Sex</th>\n",
       "      <th>Age</th>\n",
       "      <th>SibSp</th>\n",
       "      <th>Parch</th>\n",
       "      <th>Ticket</th>\n",
       "      <th>Fare</th>\n",
       "      <th>Embarked</th>\n",
       "    </tr>\n",
       "  </thead>\n",
       "  <tbody>\n",
       "    <tr>\n",
       "      <th>0</th>\n",
       "      <td>1</td>\n",
       "      <td>0</td>\n",
       "      <td>3</td>\n",
       "      <td>Braund, Mr. Owen Harris</td>\n",
       "      <td>male</td>\n",
       "      <td>22.0</td>\n",
       "      <td>1</td>\n",
       "      <td>0</td>\n",
       "      <td>A/5 21171</td>\n",
       "      <td>7.2500</td>\n",
       "      <td>S</td>\n",
       "    </tr>\n",
       "    <tr>\n",
       "      <th>1</th>\n",
       "      <td>2</td>\n",
       "      <td>1</td>\n",
       "      <td>1</td>\n",
       "      <td>Cumings, Mrs. John Bradley (Florence Briggs Th...</td>\n",
       "      <td>female</td>\n",
       "      <td>38.0</td>\n",
       "      <td>1</td>\n",
       "      <td>0</td>\n",
       "      <td>PC 17599</td>\n",
       "      <td>71.2833</td>\n",
       "      <td>C</td>\n",
       "    </tr>\n",
       "    <tr>\n",
       "      <th>2</th>\n",
       "      <td>3</td>\n",
       "      <td>1</td>\n",
       "      <td>3</td>\n",
       "      <td>Heikkinen, Miss. Laina</td>\n",
       "      <td>female</td>\n",
       "      <td>26.0</td>\n",
       "      <td>0</td>\n",
       "      <td>0</td>\n",
       "      <td>STON/O2. 3101282</td>\n",
       "      <td>7.9250</td>\n",
       "      <td>S</td>\n",
       "    </tr>\n",
       "    <tr>\n",
       "      <th>3</th>\n",
       "      <td>4</td>\n",
       "      <td>1</td>\n",
       "      <td>1</td>\n",
       "      <td>Futrelle, Mrs. Jacques Heath (Lily May Peel)</td>\n",
       "      <td>female</td>\n",
       "      <td>35.0</td>\n",
       "      <td>1</td>\n",
       "      <td>0</td>\n",
       "      <td>113803</td>\n",
       "      <td>53.1000</td>\n",
       "      <td>S</td>\n",
       "    </tr>\n",
       "    <tr>\n",
       "      <th>4</th>\n",
       "      <td>5</td>\n",
       "      <td>0</td>\n",
       "      <td>3</td>\n",
       "      <td>Allen, Mr. William Henry</td>\n",
       "      <td>male</td>\n",
       "      <td>35.0</td>\n",
       "      <td>0</td>\n",
       "      <td>0</td>\n",
       "      <td>373450</td>\n",
       "      <td>8.0500</td>\n",
       "      <td>S</td>\n",
       "    </tr>\n",
       "    <tr>\n",
       "      <th>...</th>\n",
       "      <td>...</td>\n",
       "      <td>...</td>\n",
       "      <td>...</td>\n",
       "      <td>...</td>\n",
       "      <td>...</td>\n",
       "      <td>...</td>\n",
       "      <td>...</td>\n",
       "      <td>...</td>\n",
       "      <td>...</td>\n",
       "      <td>...</td>\n",
       "      <td>...</td>\n",
       "    </tr>\n",
       "    <tr>\n",
       "      <th>886</th>\n",
       "      <td>887</td>\n",
       "      <td>0</td>\n",
       "      <td>2</td>\n",
       "      <td>Montvila, Rev. Juozas</td>\n",
       "      <td>male</td>\n",
       "      <td>27.0</td>\n",
       "      <td>0</td>\n",
       "      <td>0</td>\n",
       "      <td>211536</td>\n",
       "      <td>13.0000</td>\n",
       "      <td>S</td>\n",
       "    </tr>\n",
       "    <tr>\n",
       "      <th>887</th>\n",
       "      <td>888</td>\n",
       "      <td>1</td>\n",
       "      <td>1</td>\n",
       "      <td>Graham, Miss. Margaret Edith</td>\n",
       "      <td>female</td>\n",
       "      <td>19.0</td>\n",
       "      <td>0</td>\n",
       "      <td>0</td>\n",
       "      <td>112053</td>\n",
       "      <td>30.0000</td>\n",
       "      <td>S</td>\n",
       "    </tr>\n",
       "    <tr>\n",
       "      <th>888</th>\n",
       "      <td>889</td>\n",
       "      <td>0</td>\n",
       "      <td>3</td>\n",
       "      <td>Johnston, Miss. Catherine Helen \"Carrie\"</td>\n",
       "      <td>female</td>\n",
       "      <td>24.0</td>\n",
       "      <td>1</td>\n",
       "      <td>2</td>\n",
       "      <td>W./C. 6607</td>\n",
       "      <td>23.4500</td>\n",
       "      <td>S</td>\n",
       "    </tr>\n",
       "    <tr>\n",
       "      <th>889</th>\n",
       "      <td>890</td>\n",
       "      <td>1</td>\n",
       "      <td>1</td>\n",
       "      <td>Behr, Mr. Karl Howell</td>\n",
       "      <td>male</td>\n",
       "      <td>26.0</td>\n",
       "      <td>0</td>\n",
       "      <td>0</td>\n",
       "      <td>111369</td>\n",
       "      <td>30.0000</td>\n",
       "      <td>C</td>\n",
       "    </tr>\n",
       "    <tr>\n",
       "      <th>890</th>\n",
       "      <td>891</td>\n",
       "      <td>0</td>\n",
       "      <td>3</td>\n",
       "      <td>Dooley, Mr. Patrick</td>\n",
       "      <td>male</td>\n",
       "      <td>32.0</td>\n",
       "      <td>0</td>\n",
       "      <td>0</td>\n",
       "      <td>370376</td>\n",
       "      <td>7.7500</td>\n",
       "      <td>Q</td>\n",
       "    </tr>\n",
       "  </tbody>\n",
       "</table>\n",
       "<p>891 rows × 11 columns</p>\n",
       "</div>"
      ],
      "text/plain": [
       "     PassengerId  Survived  Pclass  \\\n",
       "0              1         0       3   \n",
       "1              2         1       1   \n",
       "2              3         1       3   \n",
       "3              4         1       1   \n",
       "4              5         0       3   \n",
       "..           ...       ...     ...   \n",
       "886          887         0       2   \n",
       "887          888         1       1   \n",
       "888          889         0       3   \n",
       "889          890         1       1   \n",
       "890          891         0       3   \n",
       "\n",
       "                                                  Name     Sex   Age  SibSp  \\\n",
       "0                              Braund, Mr. Owen Harris    male  22.0      1   \n",
       "1    Cumings, Mrs. John Bradley (Florence Briggs Th...  female  38.0      1   \n",
       "2                               Heikkinen, Miss. Laina  female  26.0      0   \n",
       "3         Futrelle, Mrs. Jacques Heath (Lily May Peel)  female  35.0      1   \n",
       "4                             Allen, Mr. William Henry    male  35.0      0   \n",
       "..                                                 ...     ...   ...    ...   \n",
       "886                              Montvila, Rev. Juozas    male  27.0      0   \n",
       "887                       Graham, Miss. Margaret Edith  female  19.0      0   \n",
       "888           Johnston, Miss. Catherine Helen \"Carrie\"  female  24.0      1   \n",
       "889                              Behr, Mr. Karl Howell    male  26.0      0   \n",
       "890                                Dooley, Mr. Patrick    male  32.0      0   \n",
       "\n",
       "     Parch            Ticket     Fare Embarked  \n",
       "0        0         A/5 21171   7.2500        S  \n",
       "1        0          PC 17599  71.2833        C  \n",
       "2        0  STON/O2. 3101282   7.9250        S  \n",
       "3        0            113803  53.1000        S  \n",
       "4        0            373450   8.0500        S  \n",
       "..     ...               ...      ...      ...  \n",
       "886      0            211536  13.0000        S  \n",
       "887      0            112053  30.0000        S  \n",
       "888      2        W./C. 6607  23.4500        S  \n",
       "889      0            111369  30.0000        C  \n",
       "890      0            370376   7.7500        Q  \n",
       "\n",
       "[891 rows x 11 columns]"
      ]
     },
     "execution_count": 133,
     "metadata": {},
     "output_type": "execute_result"
    }
   ],
   "source": [
    "df_train"
   ]
  },
  {
   "cell_type": "code",
   "execution_count": 134,
   "metadata": {},
   "outputs": [
    {
     "data": {
      "text/plain": [
       "PassengerId      int64\n",
       "Survived         int64\n",
       "Pclass           int64\n",
       "Name            object\n",
       "Sex             object\n",
       "Age            float64\n",
       "SibSp            int64\n",
       "Parch            int64\n",
       "Ticket          object\n",
       "Fare           float64\n",
       "Embarked        object\n",
       "dtype: object"
      ]
     },
     "execution_count": 134,
     "metadata": {},
     "output_type": "execute_result"
    }
   ],
   "source": [
    "df_train.dtypes"
   ]
  },
  {
   "cell_type": "code",
   "execution_count": 135,
   "metadata": {},
   "outputs": [
    {
     "data": {
      "text/plain": [
       "PassengerId      int64\n",
       "Pclass           int64\n",
       "Name            object\n",
       "Sex             object\n",
       "Age            float64\n",
       "SibSp            int64\n",
       "Parch            int64\n",
       "Ticket          object\n",
       "Fare           float64\n",
       "Embarked        object\n",
       "dtype: object"
      ]
     },
     "execution_count": 135,
     "metadata": {},
     "output_type": "execute_result"
    }
   ],
   "source": [
    "df_test.dtypes"
   ]
  },
  {
   "cell_type": "markdown",
   "metadata": {},
   "source": [
    "### <span style=\"color:#87CEEB\"> Estadísticas descriptivas para ambos datasets"
   ]
  },
  {
   "cell_type": "code",
   "execution_count": 136,
   "metadata": {},
   "outputs": [
    {
     "data": {
      "text/html": [
       "<div>\n",
       "<style scoped>\n",
       "    .dataframe tbody tr th:only-of-type {\n",
       "        vertical-align: middle;\n",
       "    }\n",
       "\n",
       "    .dataframe tbody tr th {\n",
       "        vertical-align: top;\n",
       "    }\n",
       "\n",
       "    .dataframe thead th {\n",
       "        text-align: right;\n",
       "    }\n",
       "</style>\n",
       "<table border=\"1\" class=\"dataframe\">\n",
       "  <thead>\n",
       "    <tr style=\"text-align: right;\">\n",
       "      <th></th>\n",
       "      <th>PassengerId</th>\n",
       "      <th>Survived</th>\n",
       "      <th>Pclass</th>\n",
       "      <th>Age</th>\n",
       "      <th>SibSp</th>\n",
       "      <th>Parch</th>\n",
       "      <th>Fare</th>\n",
       "    </tr>\n",
       "  </thead>\n",
       "  <tbody>\n",
       "    <tr>\n",
       "      <th>count</th>\n",
       "      <td>891.000000</td>\n",
       "      <td>891.000000</td>\n",
       "      <td>891.000000</td>\n",
       "      <td>891.000000</td>\n",
       "      <td>891.000000</td>\n",
       "      <td>891.000000</td>\n",
       "      <td>891.000000</td>\n",
       "    </tr>\n",
       "    <tr>\n",
       "      <th>mean</th>\n",
       "      <td>446.000000</td>\n",
       "      <td>0.383838</td>\n",
       "      <td>2.308642</td>\n",
       "      <td>28.749719</td>\n",
       "      <td>0.523008</td>\n",
       "      <td>0.381594</td>\n",
       "      <td>32.204208</td>\n",
       "    </tr>\n",
       "    <tr>\n",
       "      <th>std</th>\n",
       "      <td>257.353842</td>\n",
       "      <td>0.486592</td>\n",
       "      <td>0.836071</td>\n",
       "      <td>12.971823</td>\n",
       "      <td>1.102743</td>\n",
       "      <td>0.806057</td>\n",
       "      <td>49.693429</td>\n",
       "    </tr>\n",
       "    <tr>\n",
       "      <th>min</th>\n",
       "      <td>1.000000</td>\n",
       "      <td>0.000000</td>\n",
       "      <td>1.000000</td>\n",
       "      <td>1.000000</td>\n",
       "      <td>0.000000</td>\n",
       "      <td>0.000000</td>\n",
       "      <td>0.000000</td>\n",
       "    </tr>\n",
       "    <tr>\n",
       "      <th>25%</th>\n",
       "      <td>223.500000</td>\n",
       "      <td>0.000000</td>\n",
       "      <td>2.000000</td>\n",
       "      <td>22.000000</td>\n",
       "      <td>0.000000</td>\n",
       "      <td>0.000000</td>\n",
       "      <td>7.910400</td>\n",
       "    </tr>\n",
       "    <tr>\n",
       "      <th>50%</th>\n",
       "      <td>446.000000</td>\n",
       "      <td>0.000000</td>\n",
       "      <td>3.000000</td>\n",
       "      <td>24.000000</td>\n",
       "      <td>0.000000</td>\n",
       "      <td>0.000000</td>\n",
       "      <td>14.454200</td>\n",
       "    </tr>\n",
       "    <tr>\n",
       "      <th>75%</th>\n",
       "      <td>668.500000</td>\n",
       "      <td>1.000000</td>\n",
       "      <td>3.000000</td>\n",
       "      <td>35.000000</td>\n",
       "      <td>1.000000</td>\n",
       "      <td>0.000000</td>\n",
       "      <td>31.000000</td>\n",
       "    </tr>\n",
       "    <tr>\n",
       "      <th>max</th>\n",
       "      <td>891.000000</td>\n",
       "      <td>1.000000</td>\n",
       "      <td>3.000000</td>\n",
       "      <td>80.000000</td>\n",
       "      <td>8.000000</td>\n",
       "      <td>6.000000</td>\n",
       "      <td>512.329200</td>\n",
       "    </tr>\n",
       "  </tbody>\n",
       "</table>\n",
       "</div>"
      ],
      "text/plain": [
       "       PassengerId    Survived      Pclass         Age       SibSp  \\\n",
       "count   891.000000  891.000000  891.000000  891.000000  891.000000   \n",
       "mean    446.000000    0.383838    2.308642   28.749719    0.523008   \n",
       "std     257.353842    0.486592    0.836071   12.971823    1.102743   \n",
       "min       1.000000    0.000000    1.000000    1.000000    0.000000   \n",
       "25%     223.500000    0.000000    2.000000   22.000000    0.000000   \n",
       "50%     446.000000    0.000000    3.000000   24.000000    0.000000   \n",
       "75%     668.500000    1.000000    3.000000   35.000000    1.000000   \n",
       "max     891.000000    1.000000    3.000000   80.000000    8.000000   \n",
       "\n",
       "            Parch        Fare  \n",
       "count  891.000000  891.000000  \n",
       "mean     0.381594   32.204208  \n",
       "std      0.806057   49.693429  \n",
       "min      0.000000    0.000000  \n",
       "25%      0.000000    7.910400  \n",
       "50%      0.000000   14.454200  \n",
       "75%      0.000000   31.000000  \n",
       "max      6.000000  512.329200  "
      ]
     },
     "execution_count": 136,
     "metadata": {},
     "output_type": "execute_result"
    }
   ],
   "source": [
    "df_train.describe()"
   ]
  },
  {
   "cell_type": "code",
   "execution_count": 137,
   "metadata": {},
   "outputs": [
    {
     "data": {
      "text/html": [
       "<div>\n",
       "<style scoped>\n",
       "    .dataframe tbody tr th:only-of-type {\n",
       "        vertical-align: middle;\n",
       "    }\n",
       "\n",
       "    .dataframe tbody tr th {\n",
       "        vertical-align: top;\n",
       "    }\n",
       "\n",
       "    .dataframe thead th {\n",
       "        text-align: right;\n",
       "    }\n",
       "</style>\n",
       "<table border=\"1\" class=\"dataframe\">\n",
       "  <thead>\n",
       "    <tr style=\"text-align: right;\">\n",
       "      <th></th>\n",
       "      <th>PassengerId</th>\n",
       "      <th>Pclass</th>\n",
       "      <th>Age</th>\n",
       "      <th>SibSp</th>\n",
       "      <th>Parch</th>\n",
       "      <th>Fare</th>\n",
       "    </tr>\n",
       "  </thead>\n",
       "  <tbody>\n",
       "    <tr>\n",
       "      <th>count</th>\n",
       "      <td>418.000000</td>\n",
       "      <td>418.000000</td>\n",
       "      <td>418.000000</td>\n",
       "      <td>418.000000</td>\n",
       "      <td>418.000000</td>\n",
       "      <td>418.000000</td>\n",
       "    </tr>\n",
       "    <tr>\n",
       "      <th>mean</th>\n",
       "      <td>1100.500000</td>\n",
       "      <td>2.265550</td>\n",
       "      <td>28.608852</td>\n",
       "      <td>0.447368</td>\n",
       "      <td>0.392344</td>\n",
       "      <td>35.560497</td>\n",
       "    </tr>\n",
       "    <tr>\n",
       "      <th>std</th>\n",
       "      <td>120.810458</td>\n",
       "      <td>0.841838</td>\n",
       "      <td>12.847640</td>\n",
       "      <td>0.896760</td>\n",
       "      <td>0.981429</td>\n",
       "      <td>55.857145</td>\n",
       "    </tr>\n",
       "    <tr>\n",
       "      <th>min</th>\n",
       "      <td>892.000000</td>\n",
       "      <td>1.000000</td>\n",
       "      <td>1.000000</td>\n",
       "      <td>0.000000</td>\n",
       "      <td>0.000000</td>\n",
       "      <td>0.000000</td>\n",
       "    </tr>\n",
       "    <tr>\n",
       "      <th>25%</th>\n",
       "      <td>996.250000</td>\n",
       "      <td>1.000000</td>\n",
       "      <td>21.000000</td>\n",
       "      <td>0.000000</td>\n",
       "      <td>0.000000</td>\n",
       "      <td>7.895800</td>\n",
       "    </tr>\n",
       "    <tr>\n",
       "      <th>50%</th>\n",
       "      <td>1100.500000</td>\n",
       "      <td>3.000000</td>\n",
       "      <td>24.000000</td>\n",
       "      <td>0.000000</td>\n",
       "      <td>0.000000</td>\n",
       "      <td>14.454200</td>\n",
       "    </tr>\n",
       "    <tr>\n",
       "      <th>75%</th>\n",
       "      <td>1204.750000</td>\n",
       "      <td>3.000000</td>\n",
       "      <td>35.750000</td>\n",
       "      <td>1.000000</td>\n",
       "      <td>0.000000</td>\n",
       "      <td>31.471875</td>\n",
       "    </tr>\n",
       "    <tr>\n",
       "      <th>max</th>\n",
       "      <td>1309.000000</td>\n",
       "      <td>3.000000</td>\n",
       "      <td>76.000000</td>\n",
       "      <td>8.000000</td>\n",
       "      <td>9.000000</td>\n",
       "      <td>512.329200</td>\n",
       "    </tr>\n",
       "  </tbody>\n",
       "</table>\n",
       "</div>"
      ],
      "text/plain": [
       "       PassengerId      Pclass         Age       SibSp       Parch        Fare\n",
       "count   418.000000  418.000000  418.000000  418.000000  418.000000  418.000000\n",
       "mean   1100.500000    2.265550   28.608852    0.447368    0.392344   35.560497\n",
       "std     120.810458    0.841838   12.847640    0.896760    0.981429   55.857145\n",
       "min     892.000000    1.000000    1.000000    0.000000    0.000000    0.000000\n",
       "25%     996.250000    1.000000   21.000000    0.000000    0.000000    7.895800\n",
       "50%    1100.500000    3.000000   24.000000    0.000000    0.000000   14.454200\n",
       "75%    1204.750000    3.000000   35.750000    1.000000    0.000000   31.471875\n",
       "max    1309.000000    3.000000   76.000000    8.000000    9.000000  512.329200"
      ]
     },
     "execution_count": 137,
     "metadata": {},
     "output_type": "execute_result"
    }
   ],
   "source": [
    "df_test.describe()"
   ]
  },
  {
   "cell_type": "markdown",
   "metadata": {},
   "source": [
    "## <span style=\"color:orange\"> Modificación antes de realizar relaciones entre vector objetivo y atributos"
   ]
  },
  {
   "cell_type": "markdown",
   "metadata": {},
   "source": [
    "    Antes de realizar las relaciones se eliminarán algunos atributos que no aportan información relevante al estudio."
   ]
  },
  {
   "cell_type": "code",
   "execution_count": 138,
   "metadata": {},
   "outputs": [],
   "source": [
    "df_train = df_train.copy().drop(['PassengerId', 'Ticket'], axis=1)\n",
    "df_test = df_test.copy().drop(['Ticket'], axis=1)"
   ]
  },
  {
   "cell_type": "code",
   "execution_count": 139,
   "metadata": {},
   "outputs": [
    {
     "data": {
      "text/html": [
       "<div>\n",
       "<style scoped>\n",
       "    .dataframe tbody tr th:only-of-type {\n",
       "        vertical-align: middle;\n",
       "    }\n",
       "\n",
       "    .dataframe tbody tr th {\n",
       "        vertical-align: top;\n",
       "    }\n",
       "\n",
       "    .dataframe thead th {\n",
       "        text-align: right;\n",
       "    }\n",
       "</style>\n",
       "<table border=\"1\" class=\"dataframe\">\n",
       "  <thead>\n",
       "    <tr style=\"text-align: right;\">\n",
       "      <th></th>\n",
       "      <th>Survived</th>\n",
       "      <th>Pclass</th>\n",
       "      <th>Name</th>\n",
       "      <th>Sex</th>\n",
       "      <th>Age</th>\n",
       "      <th>SibSp</th>\n",
       "      <th>Parch</th>\n",
       "      <th>Fare</th>\n",
       "      <th>Embarked</th>\n",
       "    </tr>\n",
       "  </thead>\n",
       "  <tbody>\n",
       "    <tr>\n",
       "      <th>0</th>\n",
       "      <td>0</td>\n",
       "      <td>3</td>\n",
       "      <td>Braund, Mr. Owen Harris</td>\n",
       "      <td>male</td>\n",
       "      <td>22.0</td>\n",
       "      <td>1</td>\n",
       "      <td>0</td>\n",
       "      <td>7.2500</td>\n",
       "      <td>S</td>\n",
       "    </tr>\n",
       "    <tr>\n",
       "      <th>1</th>\n",
       "      <td>1</td>\n",
       "      <td>1</td>\n",
       "      <td>Cumings, Mrs. John Bradley (Florence Briggs Th...</td>\n",
       "      <td>female</td>\n",
       "      <td>38.0</td>\n",
       "      <td>1</td>\n",
       "      <td>0</td>\n",
       "      <td>71.2833</td>\n",
       "      <td>C</td>\n",
       "    </tr>\n",
       "    <tr>\n",
       "      <th>2</th>\n",
       "      <td>1</td>\n",
       "      <td>3</td>\n",
       "      <td>Heikkinen, Miss. Laina</td>\n",
       "      <td>female</td>\n",
       "      <td>26.0</td>\n",
       "      <td>0</td>\n",
       "      <td>0</td>\n",
       "      <td>7.9250</td>\n",
       "      <td>S</td>\n",
       "    </tr>\n",
       "    <tr>\n",
       "      <th>3</th>\n",
       "      <td>1</td>\n",
       "      <td>1</td>\n",
       "      <td>Futrelle, Mrs. Jacques Heath (Lily May Peel)</td>\n",
       "      <td>female</td>\n",
       "      <td>35.0</td>\n",
       "      <td>1</td>\n",
       "      <td>0</td>\n",
       "      <td>53.1000</td>\n",
       "      <td>S</td>\n",
       "    </tr>\n",
       "    <tr>\n",
       "      <th>4</th>\n",
       "      <td>0</td>\n",
       "      <td>3</td>\n",
       "      <td>Allen, Mr. William Henry</td>\n",
       "      <td>male</td>\n",
       "      <td>35.0</td>\n",
       "      <td>0</td>\n",
       "      <td>0</td>\n",
       "      <td>8.0500</td>\n",
       "      <td>S</td>\n",
       "    </tr>\n",
       "  </tbody>\n",
       "</table>\n",
       "</div>"
      ],
      "text/plain": [
       "   Survived  Pclass                                               Name  \\\n",
       "0         0       3                            Braund, Mr. Owen Harris   \n",
       "1         1       1  Cumings, Mrs. John Bradley (Florence Briggs Th...   \n",
       "2         1       3                             Heikkinen, Miss. Laina   \n",
       "3         1       1       Futrelle, Mrs. Jacques Heath (Lily May Peel)   \n",
       "4         0       3                           Allen, Mr. William Henry   \n",
       "\n",
       "      Sex   Age  SibSp  Parch     Fare Embarked  \n",
       "0    male  22.0      1      0   7.2500        S  \n",
       "1  female  38.0      1      0  71.2833        C  \n",
       "2  female  26.0      0      0   7.9250        S  \n",
       "3  female  35.0      1      0  53.1000        S  \n",
       "4    male  35.0      0      0   8.0500        S  "
      ]
     },
     "metadata": {},
     "output_type": "display_data"
    },
    {
     "data": {
      "text/html": [
       "<div>\n",
       "<style scoped>\n",
       "    .dataframe tbody tr th:only-of-type {\n",
       "        vertical-align: middle;\n",
       "    }\n",
       "\n",
       "    .dataframe tbody tr th {\n",
       "        vertical-align: top;\n",
       "    }\n",
       "\n",
       "    .dataframe thead th {\n",
       "        text-align: right;\n",
       "    }\n",
       "</style>\n",
       "<table border=\"1\" class=\"dataframe\">\n",
       "  <thead>\n",
       "    <tr style=\"text-align: right;\">\n",
       "      <th></th>\n",
       "      <th>PassengerId</th>\n",
       "      <th>Pclass</th>\n",
       "      <th>Name</th>\n",
       "      <th>Sex</th>\n",
       "      <th>Age</th>\n",
       "      <th>SibSp</th>\n",
       "      <th>Parch</th>\n",
       "      <th>Fare</th>\n",
       "      <th>Embarked</th>\n",
       "    </tr>\n",
       "  </thead>\n",
       "  <tbody>\n",
       "    <tr>\n",
       "      <th>0</th>\n",
       "      <td>892</td>\n",
       "      <td>3</td>\n",
       "      <td>Kelly, Mr. James</td>\n",
       "      <td>male</td>\n",
       "      <td>34.5</td>\n",
       "      <td>0</td>\n",
       "      <td>0</td>\n",
       "      <td>7.8292</td>\n",
       "      <td>Q</td>\n",
       "    </tr>\n",
       "    <tr>\n",
       "      <th>1</th>\n",
       "      <td>893</td>\n",
       "      <td>3</td>\n",
       "      <td>Wilkes, Mrs. James (Ellen Needs)</td>\n",
       "      <td>female</td>\n",
       "      <td>47.0</td>\n",
       "      <td>1</td>\n",
       "      <td>0</td>\n",
       "      <td>7.0000</td>\n",
       "      <td>S</td>\n",
       "    </tr>\n",
       "    <tr>\n",
       "      <th>2</th>\n",
       "      <td>894</td>\n",
       "      <td>2</td>\n",
       "      <td>Myles, Mr. Thomas Francis</td>\n",
       "      <td>male</td>\n",
       "      <td>62.0</td>\n",
       "      <td>0</td>\n",
       "      <td>0</td>\n",
       "      <td>9.6875</td>\n",
       "      <td>Q</td>\n",
       "    </tr>\n",
       "    <tr>\n",
       "      <th>3</th>\n",
       "      <td>895</td>\n",
       "      <td>3</td>\n",
       "      <td>Wirz, Mr. Albert</td>\n",
       "      <td>male</td>\n",
       "      <td>27.0</td>\n",
       "      <td>0</td>\n",
       "      <td>0</td>\n",
       "      <td>8.6625</td>\n",
       "      <td>S</td>\n",
       "    </tr>\n",
       "    <tr>\n",
       "      <th>4</th>\n",
       "      <td>896</td>\n",
       "      <td>3</td>\n",
       "      <td>Hirvonen, Mrs. Alexander (Helga E Lindqvist)</td>\n",
       "      <td>female</td>\n",
       "      <td>22.0</td>\n",
       "      <td>1</td>\n",
       "      <td>1</td>\n",
       "      <td>12.2875</td>\n",
       "      <td>S</td>\n",
       "    </tr>\n",
       "  </tbody>\n",
       "</table>\n",
       "</div>"
      ],
      "text/plain": [
       "   PassengerId  Pclass                                          Name     Sex  \\\n",
       "0          892       3                              Kelly, Mr. James    male   \n",
       "1          893       3              Wilkes, Mrs. James (Ellen Needs)  female   \n",
       "2          894       2                     Myles, Mr. Thomas Francis    male   \n",
       "3          895       3                              Wirz, Mr. Albert    male   \n",
       "4          896       3  Hirvonen, Mrs. Alexander (Helga E Lindqvist)  female   \n",
       "\n",
       "    Age  SibSp  Parch     Fare Embarked  \n",
       "0  34.5      0      0   7.8292        Q  \n",
       "1  47.0      1      0   7.0000        S  \n",
       "2  62.0      0      0   9.6875        Q  \n",
       "3  27.0      0      0   8.6625        S  \n",
       "4  22.0      1      1  12.2875        S  "
      ]
     },
     "metadata": {},
     "output_type": "display_data"
    }
   ],
   "source": [
    "display(df_train.head())\n",
    "display(df_test.head())"
   ]
  },
  {
   "cell_type": "markdown",
   "metadata": {},
   "source": [
    "## <span style=\"color:orange\"> Correlaciones entre vector objetivo y atributos"
   ]
  },
  {
   "cell_type": "code",
   "execution_count": 140,
   "metadata": {},
   "outputs": [
    {
     "data": {
      "text/plain": [
       "<Axes: >"
      ]
     },
     "execution_count": 140,
     "metadata": {},
     "output_type": "execute_result"
    },
    {
     "data": {
      "image/png": "[encoded data removed]",
      "text/plain": [
       "<Figure size 640x480 with 2 Axes>"
      ]
     },
     "metadata": {},
     "output_type": "display_data"
    }
   ],
   "source": [
    "# Heatmap para observar correlaciones entre las variables\n",
    "corr = df_train.corr()\n",
    "sns.heatmap(corr, annot=True)"
   ]
  },
  {
   "cell_type": "markdown",
   "metadata": {},
   "source": [
    "    Se observan varios casos de correlaciones entre atributos medianamente moderadas como por ejemplo, los pares 'Fare-Pclass'(correlación negativa), 'Parch-SibSp'(correlación positiva). También se observan correlaciones destacables entre el vector objetivo y algunos atributos, por ejemplo, 'Fare' y 'Pclass'."
   ]
  },
  {
   "cell_type": "markdown",
   "metadata": {},
   "source": [
    "## <span style=\"color:orange\"> Atributos Categóricos vs. Vector Objetivo"
   ]
  },
  {
   "cell_type": "markdown",
   "metadata": {},
   "source": [
    "### <span style=\"color:#87CEEB\"> Sex vs. Survived"
   ]
  },
  {
   "cell_type": "code",
   "execution_count": 141,
   "metadata": {},
   "outputs": [],
   "source": [
    "def variable_vs_target(data, var:str, graph_type, figsize=(7,5)):\n",
    "    if graph_type == sns.countplot:\n",
    "        plt.figure(figsize=figsize)\n",
    "        ax = sns.countplot(x=var, hue='Survived', data=data)\n",
    "        for p in ax.patches:\n",
    "            ax.annotate(f'{int(p.get_height())}', (p.get_x() + p.get_width() / 2., p.get_height()),\n",
    "                        ha='center', va='center', fontsize=10, color='black', xytext=(0, 3), textcoords='offset points')\n",
    "        plt.title(f'{var} vs. Survived')\n",
    "        plt.xlabel(f'{var}')\n",
    "        plt.ylabel(\"Cantidad\")\n",
    "        plt.show()\n",
    "        \n",
    "    elif graph_type == sns.boxplot:\n",
    "        plt.figure(figsize=figsize)\n",
    "        sns.boxplot(x='Survived', y=var, data=data)\n",
    "        plt.title(f'Boxplot {var} vs Survived')\n",
    "        plt.xlabel('Survived')\n",
    "        plt.ylabel(f'{var}')\n",
    "        plt.show()\n",
    "\n",
    "    elif graph_type == sns.histplot:\n",
    "        plt.figure(figsize=figsize)\n",
    "        sns.histplot(data=data, x=var, hue='Survived', multiple='stack')\n",
    "        plt.xlabel(f'{var}')\n",
    "        plt.ylabel('Frecuencia')\n",
    "        plt.title(f'Distribución de {var}')\n",
    "        plt.show()"
   ]
  },
  {
   "cell_type": "code",
   "execution_count": 142,
   "metadata": {},
   "outputs": [
    {
     "data": {
      "image/png": "[encoded data removed]",
      "text/plain": [
       "<Figure size 700x500 with 1 Axes>"
      ]
     },
     "metadata": {},
     "output_type": "display_data"
    }
   ],
   "source": [
    "variable_vs_target(df_train, 'Sex', sns.countplot)"
   ]
  },
  {
   "cell_type": "markdown",
   "metadata": {},
   "source": [
    "    Se observa que la mayoría de fallecimientos pertenece al sexo masculino."
   ]
  },
  {
   "cell_type": "markdown",
   "metadata": {},
   "source": [
    "### <span style=\"color:#87CEEB\"> Embarked vs. Survived"
   ]
  },
  {
   "cell_type": "code",
   "execution_count": 143,
   "metadata": {},
   "outputs": [
    {
     "data": {
      "image/png": "[encoded data removed]",
      "text/plain": [
       "<Figure size 700x500 with 1 Axes>"
      ]
     },
     "metadata": {},
     "output_type": "display_data"
    }
   ],
   "source": [
    "variable_vs_target(df_train, 'Embarked', sns.countplot)"
   ]
  },
  {
   "cell_type": "markdown",
   "metadata": {},
   "source": [
    "    Se observa que la mayoría de pasajeros que embarcaron en el puerto de Southampton coincide con la mayoría de fallecimientos."
   ]
  },
  {
   "cell_type": "markdown",
   "metadata": {},
   "source": [
    "### <span style=\"color:#87CEEB\"> Title vs. Survived"
   ]
  },
  {
   "cell_type": "code",
   "execution_count": 144,
   "metadata": {},
   "outputs": [],
   "source": [
    "# Extracción de títulos honoríficos y creación de columna 'Title'\n",
    "df_train['Title'] = df_train['Name'].str.extract(' ([A-Za-z]+)\\.')\n",
    "df_test['Title'] = df_test['Name'].str.extract(' ([A-Za-z]+)\\.')"
   ]
  },
  {
   "cell_type": "code",
   "execution_count": 145,
   "metadata": {},
   "outputs": [],
   "source": [
    "def replace_with_other(title):\n",
    "    values_to_keep = ['Mr', 'Mrs', 'Miss', 'Master']\n",
    "    if title in values_to_keep:\n",
    "        return title\n",
    "    else:\n",
    "        return 'Other'"
   ]
  },
  {
   "cell_type": "code",
   "execution_count": 146,
   "metadata": {},
   "outputs": [],
   "source": [
    "# Aplicar la función a la columna 'Title'\n",
    "df_train['Title'] = df_train['Title'].apply(replace_with_other)\n",
    "df_test['Title'] = df_test['Title'].apply(replace_with_other)"
   ]
  },
  {
   "cell_type": "code",
   "execution_count": 147,
   "metadata": {},
   "outputs": [
    {
     "data": {
      "image/png": "[encoded data removed]",
      "text/plain": [
       "<Figure size 700x500 with 1 Axes>"
      ]
     },
     "metadata": {},
     "output_type": "display_data"
    }
   ],
   "source": [
    "variable_vs_target(df_train, 'Title', sns.histplot)"
   ]
  },
  {
   "cell_type": "code",
   "execution_count": 148,
   "metadata": {},
   "outputs": [
    {
     "data": {
      "image/png": "[encoded data removed]",
      "text/plain": [
       "<Figure size 700x500 with 1 Axes>"
      ]
     },
     "metadata": {},
     "output_type": "display_data"
    }
   ],
   "source": [
    "variable_vs_target(df_train, 'Title', sns.countplot)"
   ]
  },
  {
   "cell_type": "markdown",
   "metadata": {},
   "source": [
    "    La mayoría títulos honoríficos corresponde a Mr."
   ]
  },
  {
   "cell_type": "markdown",
   "metadata": {},
   "source": [
    "### <span style=\"color:#87CEEB\"> Title/Embarked vs. Survived"
   ]
  },
  {
   "cell_type": "code",
   "execution_count": 149,
   "metadata": {},
   "outputs": [
    {
     "data": {
      "image/png": "[encoded data removed]",
      "text/plain": [
       "<Figure size 700x500 with 1 Axes>"
      ]
     },
     "metadata": {},
     "output_type": "display_data"
    }
   ],
   "source": [
    "variable_vs_target(df_train[df_train['Title'] == 'Mr'], 'Embarked', sns.countplot)"
   ]
  },
  {
   "cell_type": "markdown",
   "metadata": {},
   "source": [
    "    El gráfico superior representa aquellos pasajeros con título honorífico 'Mr' y su correspondiente puerto de embarque, además de mostrar la cantidad de sobrevivientes y fallecidos."
   ]
  },
  {
   "cell_type": "markdown",
   "metadata": {},
   "source": [
    "## <span style=\"color:orange\"> Atributos Numéricos vs. Vector Objetivo"
   ]
  },
  {
   "cell_type": "markdown",
   "metadata": {},
   "source": [
    "### <span style=\"color:#87CEEB\"> Pclass vs. Survived"
   ]
  },
  {
   "cell_type": "code",
   "execution_count": 150,
   "metadata": {},
   "outputs": [
    {
     "data": {
      "image/png": "[encoded data removed]",
      "text/plain": [
       "<Figure size 700x500 with 1 Axes>"
      ]
     },
     "metadata": {},
     "output_type": "display_data"
    }
   ],
   "source": [
    "variable_vs_target(df_train, 'Pclass', sns.countplot)"
   ]
  },
  {
   "cell_type": "markdown",
   "metadata": {},
   "source": [
    "    Para esta muestra se observa que la clase que sufrió más bajas fue la 3ra clase (menor nivel económico)."
   ]
  },
  {
   "cell_type": "code",
   "execution_count": 151,
   "metadata": {},
   "outputs": [
    {
     "data": {
      "image/png": "[encoded data removed]",
      "text/plain": [
       "<Figure size 700x500 with 1 Axes>"
      ]
     },
     "metadata": {},
     "output_type": "display_data"
    }
   ],
   "source": [
    "variable_vs_target(df_train[df_train['Title'] == 'Mr'], 'Pclass', sns.countplot)"
   ]
  },
  {
   "cell_type": "markdown",
   "metadata": {},
   "source": [
    "    Similar al gráfico anterior, este muestra aquellos pasajeros con título honorífico 'Mr' y su clase social correspondiente, además de hacer la diferencia entre aquellos que sobrevivieron y aquellos que no."
   ]
  },
  {
   "cell_type": "markdown",
   "metadata": {},
   "source": [
    "### <span style=\"color:#87CEEB\"> Age vs. Survived"
   ]
  },
  {
   "cell_type": "code",
   "execution_count": 152,
   "metadata": {},
   "outputs": [
    {
     "data": {
      "image/png": "[encoded data removed]",
      "text/plain": [
       "<Figure size 700x500 with 1 Axes>"
      ]
     },
     "metadata": {},
     "output_type": "display_data"
    }
   ],
   "source": [
    "variable_vs_target(df_train, 'Age', sns.boxplot)"
   ]
  },
  {
   "cell_type": "markdown",
   "metadata": {},
   "source": [
    "    El boxplot superior muestra que el 50% de los pasajeros a bordo tenían edades entre los 22 y los 35 años de edad.\n",
    "    También se observa que la persona de mayor edad (80 años) logró sobrevivir (Según lo registrado en train.csv).\n"
   ]
  },
  {
   "cell_type": "code",
   "execution_count": 153,
   "metadata": {},
   "outputs": [
    {
     "data": {
      "text/html": [
       "<div>\n",
       "<style scoped>\n",
       "    .dataframe tbody tr th:only-of-type {\n",
       "        vertical-align: middle;\n",
       "    }\n",
       "\n",
       "    .dataframe tbody tr th {\n",
       "        vertical-align: top;\n",
       "    }\n",
       "\n",
       "    .dataframe thead th {\n",
       "        text-align: right;\n",
       "    }\n",
       "</style>\n",
       "<table border=\"1\" class=\"dataframe\">\n",
       "  <thead>\n",
       "    <tr style=\"text-align: right;\">\n",
       "      <th></th>\n",
       "      <th>Survived</th>\n",
       "      <th>Pclass</th>\n",
       "      <th>Name</th>\n",
       "      <th>Sex</th>\n",
       "      <th>Age</th>\n",
       "      <th>SibSp</th>\n",
       "      <th>Parch</th>\n",
       "      <th>Fare</th>\n",
       "      <th>Embarked</th>\n",
       "      <th>Title</th>\n",
       "    </tr>\n",
       "  </thead>\n",
       "  <tbody>\n",
       "    <tr>\n",
       "      <th>630</th>\n",
       "      <td>1</td>\n",
       "      <td>1</td>\n",
       "      <td>Barkworth, Mr. Algernon Henry Wilson</td>\n",
       "      <td>male</td>\n",
       "      <td>80.0</td>\n",
       "      <td>0</td>\n",
       "      <td>0</td>\n",
       "      <td>30.0</td>\n",
       "      <td>S</td>\n",
       "      <td>Mr</td>\n",
       "    </tr>\n",
       "  </tbody>\n",
       "</table>\n",
       "</div>"
      ],
      "text/plain": [
       "     Survived  Pclass                                  Name   Sex   Age  \\\n",
       "630         1       1  Barkworth, Mr. Algernon Henry Wilson  male  80.0   \n",
       "\n",
       "     SibSp  Parch  Fare Embarked Title  \n",
       "630      0      0  30.0        S    Mr  "
      ]
     },
     "execution_count": 153,
     "metadata": {},
     "output_type": "execute_result"
    }
   ],
   "source": [
    "# pasajero más longevo a bordo del Titanic\n",
    "df_train[df_train['Age'] > 75] "
   ]
  },
  {
   "cell_type": "code",
   "execution_count": 154,
   "metadata": {},
   "outputs": [
    {
     "data": {
      "text/html": [
       "<div>\n",
       "<style scoped>\n",
       "    .dataframe tbody tr th:only-of-type {\n",
       "        vertical-align: middle;\n",
       "    }\n",
       "\n",
       "    .dataframe tbody tr th {\n",
       "        vertical-align: top;\n",
       "    }\n",
       "\n",
       "    .dataframe thead th {\n",
       "        text-align: right;\n",
       "    }\n",
       "</style>\n",
       "<table border=\"1\" class=\"dataframe\">\n",
       "  <thead>\n",
       "    <tr style=\"text-align: right;\">\n",
       "      <th></th>\n",
       "      <th>PassengerId</th>\n",
       "      <th>Pclass</th>\n",
       "      <th>Name</th>\n",
       "      <th>Sex</th>\n",
       "      <th>Age</th>\n",
       "      <th>SibSp</th>\n",
       "      <th>Parch</th>\n",
       "      <th>Fare</th>\n",
       "      <th>Embarked</th>\n",
       "      <th>Title</th>\n",
       "    </tr>\n",
       "  </thead>\n",
       "  <tbody>\n",
       "    <tr>\n",
       "      <th>96</th>\n",
       "      <td>988</td>\n",
       "      <td>1</td>\n",
       "      <td>Cavendish, Mrs. Tyrell William (Julia Florence...</td>\n",
       "      <td>female</td>\n",
       "      <td>76.0</td>\n",
       "      <td>1</td>\n",
       "      <td>0</td>\n",
       "      <td>78.85</td>\n",
       "      <td>S</td>\n",
       "      <td>Mrs</td>\n",
       "    </tr>\n",
       "  </tbody>\n",
       "</table>\n",
       "</div>"
      ],
      "text/plain": [
       "    PassengerId  Pclass                                               Name  \\\n",
       "96          988       1  Cavendish, Mrs. Tyrell William (Julia Florence...   \n",
       "\n",
       "       Sex   Age  SibSp  Parch   Fare Embarked Title  \n",
       "96  female  76.0      1      0  78.85        S   Mrs  "
      ]
     },
     "execution_count": 154,
     "metadata": {},
     "output_type": "execute_result"
    }
   ],
   "source": [
    "#  pasajero más longevo registrado en la muestra test.csv\n",
    "df_test[df_test['Age'] > 75] "
   ]
  },
  {
   "cell_type": "code",
   "execution_count": 155,
   "metadata": {},
   "outputs": [
    {
     "data": {
      "image/png": "[encoded data removed]",
      "text/plain": [
       "<Figure size 700x500 with 1 Axes>"
      ]
     },
     "metadata": {},
     "output_type": "display_data"
    }
   ],
   "source": [
    "variable_vs_target(df_train, 'Age', sns.histplot)"
   ]
  },
  {
   "cell_type": "markdown",
   "metadata": {},
   "source": [
    "    El gráfico superior muestra las concentracines de edades de los pasajeros y si sobrevivieron o no."
   ]
  },
  {
   "cell_type": "code",
   "execution_count": 156,
   "metadata": {},
   "outputs": [
    {
     "data": {
      "text/plain": [
       "count    891.000000\n",
       "mean      28.749719\n",
       "std       12.971823\n",
       "min        1.000000\n",
       "25%       22.000000\n",
       "50%       24.000000\n",
       "75%       35.000000\n",
       "max       80.000000\n",
       "Name: Age, dtype: float64"
      ]
     },
     "execution_count": 156,
     "metadata": {},
     "output_type": "execute_result"
    }
   ],
   "source": [
    "df_train.Age.describe()"
   ]
  },
  {
   "cell_type": "markdown",
   "metadata": {},
   "source": [
    "### <span style=\"color:#87CEEB\"> SibSp vs. Survived"
   ]
  },
  {
   "cell_type": "code",
   "execution_count": 157,
   "metadata": {},
   "outputs": [
    {
     "data": {
      "image/png": "[encoded data removed]",
      "text/plain": [
       "<Figure size 700x500 with 1 Axes>"
      ]
     },
     "metadata": {},
     "output_type": "display_data"
    }
   ],
   "source": [
    "variable_vs_target(df_train, 'SibSp', sns.countplot)"
   ]
  },
  {
   "cell_type": "markdown",
   "metadata": {},
   "source": [
    "    El gráfico superior indica la cantidad de familiares con los que viajaba cada pasajero. Cabe señalar que no necesariamente indica que el pasajero viajaba solo, porque por ejemplo podría ir de viaje con algún amigo o conocido."
   ]
  },
  {
   "cell_type": "code",
   "execution_count": 158,
   "metadata": {},
   "outputs": [
    {
     "data": {
      "image/png": "[encoded data removed]",
      "text/plain": [
       "<Figure size 700x500 with 1 Axes>"
      ]
     },
     "metadata": {},
     "output_type": "display_data"
    }
   ],
   "source": [
    "variable_vs_target(df_train, 'SibSp', sns.histplot)"
   ]
  },
  {
   "cell_type": "markdown",
   "metadata": {},
   "source": [
    "### <span style=\"color:#87CEEB\"> Parch vs. Survived"
   ]
  },
  {
   "cell_type": "code",
   "execution_count": 159,
   "metadata": {},
   "outputs": [
    {
     "data": {
      "image/png": "[encoded data removed]",
      "text/plain": [
       "<Figure size 700x500 with 1 Axes>"
      ]
     },
     "metadata": {},
     "output_type": "display_data"
    }
   ],
   "source": [
    "variable_vs_target(df_train, 'Parch', sns.countplot)"
   ]
  },
  {
   "cell_type": "markdown",
   "metadata": {},
   "source": [
    "    Se observa que la mayoría de los pasajeros viajaba solo."
   ]
  },
  {
   "cell_type": "code",
   "execution_count": 160,
   "metadata": {},
   "outputs": [
    {
     "data": {
      "image/png": "[encoded data removed]",
      "text/plain": [
       "<Figure size 700x500 with 1 Axes>"
      ]
     },
     "metadata": {},
     "output_type": "display_data"
    }
   ],
   "source": [
    "variable_vs_target(df_train, 'Parch', sns.histplot)"
   ]
  },
  {
   "cell_type": "markdown",
   "metadata": {},
   "source": [
    "### <span style=\"color:#87CEEB\"> Fare vs. Survived"
   ]
  },
  {
   "cell_type": "code",
   "execution_count": 161,
   "metadata": {},
   "outputs": [
    {
     "data": {
      "image/png": "[encoded data removed]",
      "text/plain": [
       "<Figure size 700x500 with 1 Axes>"
      ]
     },
     "metadata": {},
     "output_type": "display_data"
    }
   ],
   "source": [
    "variable_vs_target(df_train, 'Fare', sns.boxplot)"
   ]
  },
  {
   "cell_type": "code",
   "execution_count": 162,
   "metadata": {},
   "outputs": [
    {
     "data": {
      "text/plain": [
       "3    218\n",
       "2     93\n",
       "1     59\n",
       "Name: Pclass, dtype: int64"
      ]
     },
     "execution_count": 162,
     "metadata": {},
     "output_type": "execute_result"
    }
   ],
   "source": [
    "df_test['Pclass'][df_test['Fare'] < 75].value_counts()"
   ]
  },
  {
   "cell_type": "markdown",
   "metadata": {},
   "source": [
    "    Se observa que la mayoría de los boletos vendidos correspondían a la 3ra clase."
   ]
  },
  {
   "cell_type": "code",
   "execution_count": 163,
   "metadata": {},
   "outputs": [
    {
     "data": {
      "image/png": "[encoded data removed]",
      "text/plain": [
       "<Figure size 700x500 with 1 Axes>"
      ]
     },
     "metadata": {},
     "output_type": "display_data"
    }
   ],
   "source": [
    "variable_vs_target(df_train, 'Fare', sns.histplot)"
   ]
  },
  {
   "cell_type": "markdown",
   "metadata": {},
   "source": [
    "    El gráfico superior muestra la distribución de los boletos vendidos."
   ]
  },
  {
   "cell_type": "markdown",
   "metadata": {},
   "source": [
    "## <span style=\"color:orange\"> Recodificación de variables"
   ]
  },
  {
   "cell_type": "code",
   "execution_count": 164,
   "metadata": {},
   "outputs": [],
   "source": [
    "# eliminación de variable 'Name' en ambos datasets\n",
    "df_train = df_train.copy().drop('Name', axis=1)\n",
    "df_test = df_test.copy().drop('Name', axis=1)"
   ]
  },
  {
   "cell_type": "code",
   "execution_count": 165,
   "metadata": {},
   "outputs": [],
   "source": [
    "# Binarización de atributo 'Sex'\n",
    "df_train['Sex'] = np.where(df_train['Sex'] == 'male', 1, 0) # 1 male, 0 female\n",
    "df_test['Sex'] = np.where(df_test['Sex'] == 'male', 1, 0)"
   ]
  },
  {
   "cell_type": "code",
   "execution_count": 166,
   "metadata": {},
   "outputs": [
    {
     "data": {
      "text/html": [
       "<div>\n",
       "<style scoped>\n",
       "    .dataframe tbody tr th:only-of-type {\n",
       "        vertical-align: middle;\n",
       "    }\n",
       "\n",
       "    .dataframe tbody tr th {\n",
       "        vertical-align: top;\n",
       "    }\n",
       "\n",
       "    .dataframe thead th {\n",
       "        text-align: right;\n",
       "    }\n",
       "</style>\n",
       "<table border=\"1\" class=\"dataframe\">\n",
       "  <thead>\n",
       "    <tr style=\"text-align: right;\">\n",
       "      <th></th>\n",
       "      <th>Survived</th>\n",
       "      <th>Pclass</th>\n",
       "      <th>Sex</th>\n",
       "      <th>Age</th>\n",
       "      <th>SibSp</th>\n",
       "      <th>Parch</th>\n",
       "      <th>Fare</th>\n",
       "      <th>Embarked</th>\n",
       "      <th>Title</th>\n",
       "    </tr>\n",
       "  </thead>\n",
       "  <tbody>\n",
       "    <tr>\n",
       "      <th>0</th>\n",
       "      <td>0</td>\n",
       "      <td>3</td>\n",
       "      <td>1</td>\n",
       "      <td>22.0</td>\n",
       "      <td>1</td>\n",
       "      <td>0</td>\n",
       "      <td>7.2500</td>\n",
       "      <td>S</td>\n",
       "      <td>Mr</td>\n",
       "    </tr>\n",
       "    <tr>\n",
       "      <th>1</th>\n",
       "      <td>1</td>\n",
       "      <td>1</td>\n",
       "      <td>0</td>\n",
       "      <td>38.0</td>\n",
       "      <td>1</td>\n",
       "      <td>0</td>\n",
       "      <td>71.2833</td>\n",
       "      <td>C</td>\n",
       "      <td>Mrs</td>\n",
       "    </tr>\n",
       "    <tr>\n",
       "      <th>2</th>\n",
       "      <td>1</td>\n",
       "      <td>3</td>\n",
       "      <td>0</td>\n",
       "      <td>26.0</td>\n",
       "      <td>0</td>\n",
       "      <td>0</td>\n",
       "      <td>7.9250</td>\n",
       "      <td>S</td>\n",
       "      <td>Miss</td>\n",
       "    </tr>\n",
       "    <tr>\n",
       "      <th>3</th>\n",
       "      <td>1</td>\n",
       "      <td>1</td>\n",
       "      <td>0</td>\n",
       "      <td>35.0</td>\n",
       "      <td>1</td>\n",
       "      <td>0</td>\n",
       "      <td>53.1000</td>\n",
       "      <td>S</td>\n",
       "      <td>Mrs</td>\n",
       "    </tr>\n",
       "    <tr>\n",
       "      <th>4</th>\n",
       "      <td>0</td>\n",
       "      <td>3</td>\n",
       "      <td>1</td>\n",
       "      <td>35.0</td>\n",
       "      <td>0</td>\n",
       "      <td>0</td>\n",
       "      <td>8.0500</td>\n",
       "      <td>S</td>\n",
       "      <td>Mr</td>\n",
       "    </tr>\n",
       "  </tbody>\n",
       "</table>\n",
       "</div>"
      ],
      "text/plain": [
       "   Survived  Pclass  Sex   Age  SibSp  Parch     Fare Embarked Title\n",
       "0         0       3    1  22.0      1      0   7.2500        S    Mr\n",
       "1         1       1    0  38.0      1      0  71.2833        C   Mrs\n",
       "2         1       3    0  26.0      0      0   7.9250        S  Miss\n",
       "3         1       1    0  35.0      1      0  53.1000        S   Mrs\n",
       "4         0       3    1  35.0      0      0   8.0500        S    Mr"
      ]
     },
     "metadata": {},
     "output_type": "display_data"
    },
    {
     "data": {
      "text/html": [
       "<div>\n",
       "<style scoped>\n",
       "    .dataframe tbody tr th:only-of-type {\n",
       "        vertical-align: middle;\n",
       "    }\n",
       "\n",
       "    .dataframe tbody tr th {\n",
       "        vertical-align: top;\n",
       "    }\n",
       "\n",
       "    .dataframe thead th {\n",
       "        text-align: right;\n",
       "    }\n",
       "</style>\n",
       "<table border=\"1\" class=\"dataframe\">\n",
       "  <thead>\n",
       "    <tr style=\"text-align: right;\">\n",
       "      <th></th>\n",
       "      <th>PassengerId</th>\n",
       "      <th>Pclass</th>\n",
       "      <th>Sex</th>\n",
       "      <th>Age</th>\n",
       "      <th>SibSp</th>\n",
       "      <th>Parch</th>\n",
       "      <th>Fare</th>\n",
       "      <th>Embarked</th>\n",
       "      <th>Title</th>\n",
       "    </tr>\n",
       "  </thead>\n",
       "  <tbody>\n",
       "    <tr>\n",
       "      <th>0</th>\n",
       "      <td>892</td>\n",
       "      <td>3</td>\n",
       "      <td>1</td>\n",
       "      <td>34.5</td>\n",
       "      <td>0</td>\n",
       "      <td>0</td>\n",
       "      <td>7.8292</td>\n",
       "      <td>Q</td>\n",
       "      <td>Mr</td>\n",
       "    </tr>\n",
       "    <tr>\n",
       "      <th>1</th>\n",
       "      <td>893</td>\n",
       "      <td>3</td>\n",
       "      <td>0</td>\n",
       "      <td>47.0</td>\n",
       "      <td>1</td>\n",
       "      <td>0</td>\n",
       "      <td>7.0000</td>\n",
       "      <td>S</td>\n",
       "      <td>Mrs</td>\n",
       "    </tr>\n",
       "    <tr>\n",
       "      <th>2</th>\n",
       "      <td>894</td>\n",
       "      <td>2</td>\n",
       "      <td>1</td>\n",
       "      <td>62.0</td>\n",
       "      <td>0</td>\n",
       "      <td>0</td>\n",
       "      <td>9.6875</td>\n",
       "      <td>Q</td>\n",
       "      <td>Mr</td>\n",
       "    </tr>\n",
       "    <tr>\n",
       "      <th>3</th>\n",
       "      <td>895</td>\n",
       "      <td>3</td>\n",
       "      <td>1</td>\n",
       "      <td>27.0</td>\n",
       "      <td>0</td>\n",
       "      <td>0</td>\n",
       "      <td>8.6625</td>\n",
       "      <td>S</td>\n",
       "      <td>Mr</td>\n",
       "    </tr>\n",
       "    <tr>\n",
       "      <th>4</th>\n",
       "      <td>896</td>\n",
       "      <td>3</td>\n",
       "      <td>0</td>\n",
       "      <td>22.0</td>\n",
       "      <td>1</td>\n",
       "      <td>1</td>\n",
       "      <td>12.2875</td>\n",
       "      <td>S</td>\n",
       "      <td>Mrs</td>\n",
       "    </tr>\n",
       "  </tbody>\n",
       "</table>\n",
       "</div>"
      ],
      "text/plain": [
       "   PassengerId  Pclass  Sex   Age  SibSp  Parch     Fare Embarked Title\n",
       "0          892       3    1  34.5      0      0   7.8292        Q    Mr\n",
       "1          893       3    0  47.0      1      0   7.0000        S   Mrs\n",
       "2          894       2    1  62.0      0      0   9.6875        Q    Mr\n",
       "3          895       3    1  27.0      0      0   8.6625        S    Mr\n",
       "4          896       3    0  22.0      1      1  12.2875        S   Mrs"
      ]
     },
     "metadata": {},
     "output_type": "display_data"
    }
   ],
   "source": [
    "display(df_train.head())\n",
    "display(df_test.head())"
   ]
  },
  {
   "cell_type": "code",
   "execution_count": 167,
   "metadata": {},
   "outputs": [],
   "source": [
    "# One Hot Encoding para el atributo 'Embarked'\n",
    "dummies_embarked_train = pd.get_dummies(df_train['Embarked'], prefix='Embarked')\n",
    "dummies_embarked_test = pd.get_dummies(df_test['Embarked'], prefix='Embarked')\n",
    "\n",
    "# One Hot Encoding para el atributo 'Title'\n",
    "dummies_title_train = pd.get_dummies(df_train['Title'], prefix='Title')\n",
    "dummies_title_test = pd.get_dummies(df_test['Title'], prefix='Title')\n",
    "\n",
    "\n",
    "# Concatenación con el DataFrame original para el conjunto de entrenamiento\n",
    "df_train = pd.concat([df_train, dummies_embarked_train, dummies_title_train], axis=1).drop(['Embarked', 'Title'], axis=1)\n",
    "df_test = pd.concat([df_test, dummies_embarked_test, dummies_title_test], axis=1).drop(['Embarked', 'Title'], axis=1)"
   ]
  },
  {
   "cell_type": "code",
   "execution_count": 168,
   "metadata": {},
   "outputs": [
    {
     "data": {
      "text/html": [
       "<div>\n",
       "<style scoped>\n",
       "    .dataframe tbody tr th:only-of-type {\n",
       "        vertical-align: middle;\n",
       "    }\n",
       "\n",
       "    .dataframe tbody tr th {\n",
       "        vertical-align: top;\n",
       "    }\n",
       "\n",
       "    .dataframe thead th {\n",
       "        text-align: right;\n",
       "    }\n",
       "</style>\n",
       "<table border=\"1\" class=\"dataframe\">\n",
       "  <thead>\n",
       "    <tr style=\"text-align: right;\">\n",
       "      <th></th>\n",
       "      <th>Survived</th>\n",
       "      <th>Pclass</th>\n",
       "      <th>Sex</th>\n",
       "      <th>Age</th>\n",
       "      <th>SibSp</th>\n",
       "      <th>Parch</th>\n",
       "      <th>Fare</th>\n",
       "      <th>Embarked_C</th>\n",
       "      <th>Embarked_Q</th>\n",
       "      <th>Embarked_S</th>\n",
       "      <th>Title_Master</th>\n",
       "      <th>Title_Miss</th>\n",
       "      <th>Title_Mr</th>\n",
       "      <th>Title_Mrs</th>\n",
       "      <th>Title_Other</th>\n",
       "    </tr>\n",
       "  </thead>\n",
       "  <tbody>\n",
       "    <tr>\n",
       "      <th>0</th>\n",
       "      <td>0</td>\n",
       "      <td>3</td>\n",
       "      <td>1</td>\n",
       "      <td>22.0</td>\n",
       "      <td>1</td>\n",
       "      <td>0</td>\n",
       "      <td>7.2500</td>\n",
       "      <td>0</td>\n",
       "      <td>0</td>\n",
       "      <td>1</td>\n",
       "      <td>0</td>\n",
       "      <td>0</td>\n",
       "      <td>1</td>\n",
       "      <td>0</td>\n",
       "      <td>0</td>\n",
       "    </tr>\n",
       "    <tr>\n",
       "      <th>1</th>\n",
       "      <td>1</td>\n",
       "      <td>1</td>\n",
       "      <td>0</td>\n",
       "      <td>38.0</td>\n",
       "      <td>1</td>\n",
       "      <td>0</td>\n",
       "      <td>71.2833</td>\n",
       "      <td>1</td>\n",
       "      <td>0</td>\n",
       "      <td>0</td>\n",
       "      <td>0</td>\n",
       "      <td>0</td>\n",
       "      <td>0</td>\n",
       "      <td>1</td>\n",
       "      <td>0</td>\n",
       "    </tr>\n",
       "  </tbody>\n",
       "</table>\n",
       "</div>"
      ],
      "text/plain": [
       "   Survived  Pclass  Sex   Age  SibSp  Parch     Fare  Embarked_C  Embarked_Q  \\\n",
       "0         0       3    1  22.0      1      0   7.2500           0           0   \n",
       "1         1       1    0  38.0      1      0  71.2833           1           0   \n",
       "\n",
       "   Embarked_S  Title_Master  Title_Miss  Title_Mr  Title_Mrs  Title_Other  \n",
       "0           1             0           0         1          0            0  \n",
       "1           0             0           0         0          1            0  "
      ]
     },
     "metadata": {},
     "output_type": "display_data"
    },
    {
     "data": {
      "text/plain": [
       "(891, 15)"
      ]
     },
     "metadata": {},
     "output_type": "display_data"
    },
    {
     "data": {
      "text/html": [
       "<div>\n",
       "<style scoped>\n",
       "    .dataframe tbody tr th:only-of-type {\n",
       "        vertical-align: middle;\n",
       "    }\n",
       "\n",
       "    .dataframe tbody tr th {\n",
       "        vertical-align: top;\n",
       "    }\n",
       "\n",
       "    .dataframe thead th {\n",
       "        text-align: right;\n",
       "    }\n",
       "</style>\n",
       "<table border=\"1\" class=\"dataframe\">\n",
       "  <thead>\n",
       "    <tr style=\"text-align: right;\">\n",
       "      <th></th>\n",
       "      <th>PassengerId</th>\n",
       "      <th>Pclass</th>\n",
       "      <th>Sex</th>\n",
       "      <th>Age</th>\n",
       "      <th>SibSp</th>\n",
       "      <th>Parch</th>\n",
       "      <th>Fare</th>\n",
       "      <th>Embarked_C</th>\n",
       "      <th>Embarked_Q</th>\n",
       "      <th>Embarked_S</th>\n",
       "      <th>Title_Master</th>\n",
       "      <th>Title_Miss</th>\n",
       "      <th>Title_Mr</th>\n",
       "      <th>Title_Mrs</th>\n",
       "      <th>Title_Other</th>\n",
       "    </tr>\n",
       "  </thead>\n",
       "  <tbody>\n",
       "    <tr>\n",
       "      <th>0</th>\n",
       "      <td>892</td>\n",
       "      <td>3</td>\n",
       "      <td>1</td>\n",
       "      <td>34.5</td>\n",
       "      <td>0</td>\n",
       "      <td>0</td>\n",
       "      <td>7.8292</td>\n",
       "      <td>0</td>\n",
       "      <td>1</td>\n",
       "      <td>0</td>\n",
       "      <td>0</td>\n",
       "      <td>0</td>\n",
       "      <td>1</td>\n",
       "      <td>0</td>\n",
       "      <td>0</td>\n",
       "    </tr>\n",
       "    <tr>\n",
       "      <th>1</th>\n",
       "      <td>893</td>\n",
       "      <td>3</td>\n",
       "      <td>0</td>\n",
       "      <td>47.0</td>\n",
       "      <td>1</td>\n",
       "      <td>0</td>\n",
       "      <td>7.0000</td>\n",
       "      <td>0</td>\n",
       "      <td>0</td>\n",
       "      <td>1</td>\n",
       "      <td>0</td>\n",
       "      <td>0</td>\n",
       "      <td>0</td>\n",
       "      <td>1</td>\n",
       "      <td>0</td>\n",
       "    </tr>\n",
       "  </tbody>\n",
       "</table>\n",
       "</div>"
      ],
      "text/plain": [
       "   PassengerId  Pclass  Sex   Age  SibSp  Parch    Fare  Embarked_C  \\\n",
       "0          892       3    1  34.5      0      0  7.8292           0   \n",
       "1          893       3    0  47.0      1      0  7.0000           0   \n",
       "\n",
       "   Embarked_Q  Embarked_S  Title_Master  Title_Miss  Title_Mr  Title_Mrs  \\\n",
       "0           1           0             0           0         1          0   \n",
       "1           0           1             0           0         0          1   \n",
       "\n",
       "   Title_Other  \n",
       "0            0  \n",
       "1            0  "
      ]
     },
     "metadata": {},
     "output_type": "display_data"
    },
    {
     "data": {
      "text/plain": [
       "(418, 15)"
      ]
     },
     "metadata": {},
     "output_type": "display_data"
    }
   ],
   "source": [
    "# Muestra de recodificación realizada\n",
    "display(df_train.head(2))\n",
    "display(df_train.shape)\n",
    "display(df_test.head(2))\n",
    "display(df_test.shape)"
   ]
  },
  {
   "cell_type": "markdown",
   "metadata": {},
   "source": [
    "## <span style=\"color:orange\"> Separación de muestras de entrenamiento y pruebas"
   ]
  },
  {
   "cell_type": "code",
   "execution_count": 169,
   "metadata": {},
   "outputs": [],
   "source": [
    "X = df_train.drop('Survived', axis=1)\n",
    "y = df_train['Survived']\n",
    "\n",
    "# muestras de entrenamiento y validación para df_train\n",
    "random_state=42\n",
    "X_train_pre, X_test_pre, y_train, y_test = train_test_split(X, y,\n",
    "                                                    test_size=.33, \n",
    "                                                    random_state=random_state)\n",
    "\n",
    "\n",
    "# estandarización\n",
    "scaler = StandardScaler().fit(X_train_pre)\n",
    "X_train = pd.DataFrame(scaler.transform(X_train_pre), columns=X_train_pre.columns)\n",
    "X_test = pd.DataFrame(scaler.transform(X_test_pre), columns=X_test_pre.columns)"
   ]
  },
  {
   "cell_type": "markdown",
   "metadata": {},
   "source": [
    "## <span style=\"color:orange\"> 1era iteración de modelación"
   ]
  },
  {
   "cell_type": "markdown",
   "metadata": {},
   "source": [
    "### <span style=\"color:#87CEEB\"> Modelos a implementar"
   ]
  },
  {
   "cell_type": "code",
   "execution_count": 170,
   "metadata": {},
   "outputs": [],
   "source": [
    "# lista de modelos a implementar\n",
    "models_list = [\n",
    "    LogisticRegression(random_state=random_state),\n",
    "    KNeighborsClassifier(),\n",
    "    DecisionTreeClassifier(random_state=random_state),\n",
    "    RandomForestClassifier(random_state=random_state),\n",
    "    SVC(random_state=random_state),\n",
    "    GaussianNB(),\n",
    "    BernoulliNB(),\n",
    "    GradientBoostingClassifier(random_state=random_state),\n",
    "]"
   ]
  },
  {
   "cell_type": "code",
   "execution_count": 171,
   "metadata": {},
   "outputs": [],
   "source": [
    "def modelacion(modelo, X_train, X_test, y_train, y_test):\n",
    "    model_tmp_fit = modelo.fit(X_train, y_train)\n",
    "    yhat_train = model_tmp_fit.predict(X_train)\n",
    "    yhat = model_tmp_fit.predict(X_test)\n",
    "    \n",
    "    print (f'**** Métricas para modelo {modelo} ****\\n')\n",
    "    print(f'Métricas en train:\\n',\n",
    "            classification_report(y_train, yhat_train),\n",
    "            '\\n','-'*55,'\\n', \n",
    "            'Métricas en test:\\n',\n",
    "            classification_report(y_test, yhat),\n",
    "            '\\n','_'*70,'\\n')\n",
    "\n",
    "    return model_tmp_fit, yhat_train, yhat"
   ]
  },
  {
   "cell_type": "code",
   "execution_count": 172,
   "metadata": {},
   "outputs": [
    {
     "name": "stdout",
     "output_type": "stream",
     "text": [
      "**** Métricas para modelo LogisticRegression(random_state=42) ****\n",
      "\n",
      "Métricas en train:\n",
      "               precision    recall  f1-score   support\n",
      "\n",
      "           0       0.84      0.88      0.86       374\n",
      "           1       0.78      0.72      0.75       222\n",
      "\n",
      "    accuracy                           0.82       596\n",
      "   macro avg       0.81      0.80      0.80       596\n",
      "weighted avg       0.82      0.82      0.82       596\n",
      " \n",
      " ------------------------------------------------------- \n",
      " Métricas en test:\n",
      "               precision    recall  f1-score   support\n",
      "\n",
      "           0       0.85      0.87      0.86       175\n",
      "           1       0.80      0.78      0.79       120\n",
      "\n",
      "    accuracy                           0.83       295\n",
      "   macro avg       0.83      0.82      0.82       295\n",
      "weighted avg       0.83      0.83      0.83       295\n",
      " \n",
      " ______________________________________________________________________ \n",
      "\n",
      "**** Métricas para modelo KNeighborsClassifier() ****\n",
      "\n",
      "Métricas en train:\n",
      "               precision    recall  f1-score   support\n",
      "\n",
      "           0       0.86      0.93      0.89       374\n",
      "           1       0.87      0.73      0.80       222\n",
      "\n",
      "    accuracy                           0.86       596\n",
      "   macro avg       0.86      0.83      0.84       596\n",
      "weighted avg       0.86      0.86      0.86       596\n",
      " \n",
      " ------------------------------------------------------- \n",
      " Métricas en test:\n",
      "               precision    recall  f1-score   support\n",
      "\n",
      "           0       0.82      0.89      0.85       175\n",
      "           1       0.81      0.72      0.76       120\n",
      "\n",
      "    accuracy                           0.82       295\n",
      "   macro avg       0.82      0.80      0.81       295\n",
      "weighted avg       0.82      0.82      0.81       295\n",
      " \n",
      " ______________________________________________________________________ \n",
      "\n",
      "**** Métricas para modelo DecisionTreeClassifier(random_state=42) ****\n",
      "\n",
      "Métricas en train:\n",
      "               precision    recall  f1-score   support\n",
      "\n",
      "           0       0.97      1.00      0.98       374\n",
      "           1       1.00      0.95      0.97       222\n",
      "\n",
      "    accuracy                           0.98       596\n",
      "   macro avg       0.98      0.97      0.98       596\n",
      "weighted avg       0.98      0.98      0.98       596\n",
      " \n",
      " ------------------------------------------------------- \n",
      " Métricas en test:\n",
      "               precision    recall  f1-score   support\n",
      "\n",
      "           0       0.79      0.84      0.82       175\n",
      "           1       0.75      0.68      0.71       120\n",
      "\n",
      "    accuracy                           0.78       295\n",
      "   macro avg       0.77      0.76      0.76       295\n",
      "weighted avg       0.77      0.78      0.77       295\n",
      " \n",
      " ______________________________________________________________________ \n",
      "\n"
     ]
    },
    {
     "name": "stdout",
     "output_type": "stream",
     "text": [
      "**** Métricas para modelo RandomForestClassifier(random_state=42) ****\n",
      "\n",
      "Métricas en train:\n",
      "               precision    recall  f1-score   support\n",
      "\n",
      "           0       0.98      0.99      0.98       374\n",
      "           1       0.99      0.96      0.97       222\n",
      "\n",
      "    accuracy                           0.98       596\n",
      "   macro avg       0.98      0.98      0.98       596\n",
      "weighted avg       0.98      0.98      0.98       596\n",
      " \n",
      " ------------------------------------------------------- \n",
      " Métricas en test:\n",
      "               precision    recall  f1-score   support\n",
      "\n",
      "           0       0.82      0.82      0.82       175\n",
      "           1       0.74      0.74      0.74       120\n",
      "\n",
      "    accuracy                           0.79       295\n",
      "   macro avg       0.78      0.78      0.78       295\n",
      "weighted avg       0.79      0.79      0.79       295\n",
      " \n",
      " ______________________________________________________________________ \n",
      "\n",
      "**** Métricas para modelo SVC(random_state=42) ****\n",
      "\n",
      "Métricas en train:\n",
      "               precision    recall  f1-score   support\n",
      "\n",
      "           0       0.84      0.94      0.89       374\n",
      "           1       0.87      0.70      0.78       222\n",
      "\n",
      "    accuracy                           0.85       596\n",
      "   macro avg       0.86      0.82      0.83       596\n",
      "weighted avg       0.85      0.85      0.85       596\n",
      " \n",
      " ------------------------------------------------------- \n",
      " Métricas en test:\n",
      "               precision    recall  f1-score   support\n",
      "\n",
      "           0       0.82      0.91      0.86       175\n",
      "           1       0.85      0.70      0.77       120\n",
      "\n",
      "    accuracy                           0.83       295\n",
      "   macro avg       0.83      0.81      0.81       295\n",
      "weighted avg       0.83      0.83      0.82       295\n",
      " \n",
      " ______________________________________________________________________ \n",
      "\n",
      "**** Métricas para modelo GaussianNB() ****\n",
      "\n",
      "Métricas en train:\n",
      "               precision    recall  f1-score   support\n",
      "\n",
      "           0       0.86      0.83      0.84       374\n",
      "           1       0.73      0.77      0.75       222\n",
      "\n",
      "    accuracy                           0.81       596\n",
      "   macro avg       0.79      0.80      0.79       596\n",
      "weighted avg       0.81      0.81      0.81       596\n",
      " \n",
      " ------------------------------------------------------- \n",
      " Métricas en test:\n",
      "               precision    recall  f1-score   support\n",
      "\n",
      "           0       0.86      0.82      0.84       175\n",
      "           1       0.75      0.80      0.77       120\n",
      "\n",
      "    accuracy                           0.81       295\n",
      "   macro avg       0.80      0.81      0.81       295\n",
      "weighted avg       0.81      0.81      0.81       295\n",
      " \n",
      " ______________________________________________________________________ \n",
      "\n",
      "**** Métricas para modelo BernoulliNB() ****\n",
      "\n",
      "Métricas en train:\n",
      "               precision    recall  f1-score   support\n",
      "\n",
      "           0       0.84      0.81      0.82       374\n",
      "           1       0.70      0.73      0.71       222\n",
      "\n",
      "    accuracy                           0.78       596\n",
      "   macro avg       0.77      0.77      0.77       596\n",
      "weighted avg       0.78      0.78      0.78       596\n",
      " \n",
      " ------------------------------------------------------- \n",
      " Métricas en test:\n",
      "               precision    recall  f1-score   support\n",
      "\n",
      "           0       0.84      0.83      0.84       175\n",
      "           1       0.76      0.78      0.77       120\n",
      "\n",
      "    accuracy                           0.81       295\n",
      "   macro avg       0.80      0.80      0.80       295\n",
      "weighted avg       0.81      0.81      0.81       295\n",
      " \n",
      " ______________________________________________________________________ \n",
      "\n",
      "**** Métricas para modelo GradientBoostingClassifier(random_state=42) ****\n",
      "\n",
      "Métricas en train:\n",
      "               precision    recall  f1-score   support\n",
      "\n",
      "           0       0.90      0.97      0.93       374\n",
      "           1       0.94      0.82      0.87       222\n",
      "\n",
      "    accuracy                           0.91       596\n",
      "   macro avg       0.92      0.89      0.90       596\n",
      "weighted avg       0.91      0.91      0.91       596\n",
      " \n",
      " ------------------------------------------------------- \n",
      " Métricas en test:\n",
      "               precision    recall  f1-score   support\n",
      "\n",
      "           0       0.83      0.89      0.86       175\n",
      "           1       0.81      0.73      0.77       120\n",
      "\n",
      "    accuracy                           0.82       295\n",
      "   macro avg       0.82      0.81      0.81       295\n",
      "weighted avg       0.82      0.82      0.82       295\n",
      " \n",
      " ______________________________________________________________________ \n",
      "\n"
     ]
    }
   ],
   "source": [
    "model_fit_it1, yhat_train_it1, yhat_it1 = {}, {}, {}\n",
    "\n",
    "for model in models_list:\n",
    "    model_fit, yhat_train, yhat = modelacion(model, X_train, X_test, y_train, y_test)\n",
    "    model_fit_it1[str(model)] = model_fit\n",
    "    yhat_train_it1[str(model)] = yhat_train\n",
    "    yhat_it1[str(model)] = yhat"
   ]
  },
  {
   "cell_type": "markdown",
   "metadata": {},
   "source": [
    "### <span style=\"color:#87CEEB\"> Feature Importance"
   ]
  },
  {
   "cell_type": "code",
   "execution_count": 173,
   "metadata": {},
   "outputs": [],
   "source": [
    "def plot_importance(fit_model, feat_names, top_n=100):\n",
    "    tmp_importance = fit_model.feature_importances_\n",
    "    sort_importance = np.argsort(tmp_importance)[::-1][:top_n]\n",
    "    names = [feat_names[i] for i in sort_importance]\n",
    "    plt.title(\"Feature importance\")\n",
    "    plt.barh(range(len(sort_importance)), tmp_importance[sort_importance])\n",
    "    plt.yticks(range(len(sort_importance)), names, rotation=0)"
   ]
  },
  {
   "cell_type": "code",
   "execution_count": 174,
   "metadata": {},
   "outputs": [
    {
     "data": {
      "text/html": [
       "<style>#sk-container-id-2 {color: black;background-color: white;}#sk-container-id-2 pre{padding: 0;}#sk-container-id-2 div.sk-toggleable {background-color: white;}#sk-container-id-2 label.sk-toggleable__label {cursor: pointer;display: block;width: 100%;margin-bottom: 0;padding: 0.3em;box-sizing: border-box;text-align: center;}#sk-container-id-2 label.sk-toggleable__label-arrow:before {content: \"▸\";float: left;margin-right: 0.25em;color: #696969;}#sk-container-id-2 label.sk-toggleable__label-arrow:hover:before {color: black;}#sk-container-id-2 div.sk-estimator:hover label.sk-toggleable__label-arrow:before {color: black;}#sk-container-id-2 div.sk-toggleable__content {max-height: 0;max-width: 0;overflow: hidden;text-align: left;background-color: #f0f8ff;}#sk-container-id-2 div.sk-toggleable__content pre {margin: 0.2em;color: black;border-radius: 0.25em;background-color: #f0f8ff;}#sk-container-id-2 input.sk-toggleable__control:checked~div.sk-toggleable__content {max-height: 200px;max-width: 100%;overflow: auto;}#sk-container-id-2 input.sk-toggleable__control:checked~label.sk-toggleable__label-arrow:before {content: \"▾\";}#sk-container-id-2 div.sk-estimator input.sk-toggleable__control:checked~label.sk-toggleable__label {background-color: #d4ebff;}#sk-container-id-2 div.sk-label input.sk-toggleable__control:checked~label.sk-toggleable__label {background-color: #d4ebff;}#sk-container-id-2 input.sk-hidden--visually {border: 0;clip: rect(1px 1px 1px 1px);clip: rect(1px, 1px, 1px, 1px);height: 1px;margin: -1px;overflow: hidden;padding: 0;position: absolute;width: 1px;}#sk-container-id-2 div.sk-estimator {font-family: monospace;background-color: #f0f8ff;border: 1px dotted black;border-radius: 0.25em;box-sizing: border-box;margin-bottom: 0.5em;}#sk-container-id-2 div.sk-estimator:hover {background-color: #d4ebff;}#sk-container-id-2 div.sk-parallel-item::after {content: \"\";width: 100%;border-bottom: 1px solid gray;flex-grow: 1;}#sk-container-id-2 div.sk-label:hover label.sk-toggleable__label {background-color: #d4ebff;}#sk-container-id-2 div.sk-serial::before {content: \"\";position: absolute;border-left: 1px solid gray;box-sizing: border-box;top: 0;bottom: 0;left: 50%;z-index: 0;}#sk-container-id-2 div.sk-serial {display: flex;flex-direction: column;align-items: center;background-color: white;padding-right: 0.2em;padding-left: 0.2em;position: relative;}#sk-container-id-2 div.sk-item {position: relative;z-index: 1;}#sk-container-id-2 div.sk-parallel {display: flex;align-items: stretch;justify-content: center;background-color: white;position: relative;}#sk-container-id-2 div.sk-item::before, #sk-container-id-2 div.sk-parallel-item::before {content: \"\";position: absolute;border-left: 1px solid gray;box-sizing: border-box;top: 0;bottom: 0;left: 50%;z-index: -1;}#sk-container-id-2 div.sk-parallel-item {display: flex;flex-direction: column;z-index: 1;position: relative;background-color: white;}#sk-container-id-2 div.sk-parallel-item:first-child::after {align-self: flex-end;width: 50%;}#sk-container-id-2 div.sk-parallel-item:last-child::after {align-self: flex-start;width: 50%;}#sk-container-id-2 div.sk-parallel-item:only-child::after {width: 0;}#sk-container-id-2 div.sk-dashed-wrapped {border: 1px dashed gray;margin: 0 0.4em 0.5em 0.4em;box-sizing: border-box;padding-bottom: 0.4em;background-color: white;}#sk-container-id-2 div.sk-label label {font-family: monospace;font-weight: bold;display: inline-block;line-height: 1.2em;}#sk-container-id-2 div.sk-label-container {text-align: center;}#sk-container-id-2 div.sk-container {/* jupyter's `normalize.less` sets `[hidden] { display: none; }` but bootstrap.min.css set `[hidden] { display: none !important; }` so we also need the `!important` here to be able to override the default hidden behavior on the sphinx rendered scikit-learn.org. See: https://github.com/scikit-learn/scikit-learn/issues/21755 */display: inline-block !important;position: relative;}#sk-container-id-2 div.sk-text-repr-fallback {display: none;}</style><div id=\"sk-container-id-2\" class=\"sk-top-container\"><div class=\"sk-text-repr-fallback\"><pre>RandomForestClassifier(random_state=42)</pre><b>In a Jupyter environment, please rerun this cell to show the HTML representation or trust the notebook. <br />On GitHub, the HTML representation is unable to render, please try loading this page with nbviewer.org.</b></div><div class=\"sk-container\" hidden><div class=\"sk-item\"><div class=\"sk-estimator sk-toggleable\"><input class=\"sk-toggleable__control sk-hidden--visually\" id=\"sk-estimator-id-2\" type=\"checkbox\" checked><label for=\"sk-estimator-id-2\" class=\"sk-toggleable__label sk-toggleable__label-arrow\">RandomForestClassifier</label><div class=\"sk-toggleable__content\"><pre>RandomForestClassifier(random_state=42)</pre></div></div></div></div></div>"
      ],
      "text/plain": [
       "RandomForestClassifier(random_state=42)"
      ]
     },
     "execution_count": 174,
     "metadata": {},
     "output_type": "execute_result"
    }
   ],
   "source": [
    "model_fit_it1['RandomForestClassifier(random_state=42)']"
   ]
  },
  {
   "cell_type": "code",
   "execution_count": 175,
   "metadata": {},
   "outputs": [
    {
     "data": {
      "image/png": "[encoded data removed]",
      "text/plain": [
       "<Figure size 800x500 with 1 Axes>"
      ]
     },
     "metadata": {},
     "output_type": "display_data"
    }
   ],
   "source": [
    "colnames = X_train.columns\n",
    "plt.figure (figsize = (8,5))\n",
    "plot_importance(model_fit_it1['RandomForestClassifier(random_state=42)'], colnames, top_n=14) # 14 atributos\n",
    "plt.tight_layout()"
   ]
  },
  {
   "cell_type": "markdown",
   "metadata": {},
   "source": [
    "## <span style=\"color:orange\"> 2da iteración de modelación"
   ]
  },
  {
   "cell_type": "markdown",
   "metadata": {},
   "source": [
    "    A partir de esta iteración se considerarán grillas de hiperparámetros."
   ]
  },
  {
   "cell_type": "markdown",
   "metadata": {},
   "source": [
    "### <span style=\"color:#87CEEB\"> LogisticRegression"
   ]
  },
  {
   "cell_type": "code",
   "execution_count": 176,
   "metadata": {},
   "outputs": [
    {
     "name": "stdout",
     "output_type": "stream",
     "text": [
      "**** Métricas para modelo GridSearchCV(cv=5, estimator=LogisticRegression(random_state=42), n_jobs=-1,\n",
      "             param_grid={'C': [0.01, 0.1, 1, 10],\n",
      "                         'class_weight': [None, 'balanced'],\n",
      "                         'fit_intercept': [True, False],\n",
      "                         'max_iter': [10, 50, 100],\n",
      "                         'multi_class': ['auto', 'ovr', 'multinomial'],\n",
      "                         'penalty': ['l1', 'l2'],\n",
      "                         'solver': ['lbfgs', 'liblinear', 'newton-cg',\n",
      "                                    'newton-cholesky', 'sag', 'saga']}) ****\n",
      "\n",
      "Métricas en train:\n",
      "               precision    recall  f1-score   support\n",
      "\n",
      "           0       0.85      0.88      0.87       374\n",
      "           1       0.79      0.75      0.77       222\n",
      "\n",
      "    accuracy                           0.83       596\n",
      "   macro avg       0.82      0.81      0.82       596\n",
      "weighted avg       0.83      0.83      0.83       596\n",
      " \n",
      " ------------------------------------------------------- \n",
      " Métricas en test:\n",
      "               precision    recall  f1-score   support\n",
      "\n",
      "           0       0.84      0.86      0.85       175\n",
      "           1       0.79      0.76      0.77       120\n",
      "\n",
      "    accuracy                           0.82       295\n",
      "   macro avg       0.82      0.81      0.81       295\n",
      "weighted avg       0.82      0.82      0.82       295\n",
      " \n",
      " ______________________________________________________________________ \n",
      "\n",
      "Mejores hiperparámetros:\n",
      " {'C': 0.1, 'class_weight': None, 'fit_intercept': True, 'max_iter': 10, 'multi_class': 'auto', 'penalty': 'l2', 'solver': 'sag'}\n"
     ]
    }
   ],
   "source": [
    "lr_params = {\n",
    "    'penalty': ['l1', 'l2'],\n",
    "    'C': [0.01, 0.1, 1, 10],\n",
    "    'fit_intercept': [True, False],\n",
    "    'class_weight': [None, 'balanced'],\n",
    "    'solver': ['lbfgs', 'liblinear', 'newton-cg', 'newton-cholesky', 'sag', 'saga'],\n",
    "    'multi_class': ['auto', 'ovr', 'multinomial'],\n",
    "    'max_iter': [10, 50, 100]\n",
    "}\n",
    "\n",
    "model_lr_2 = GridSearchCV(LogisticRegression(random_state=random_state),\n",
    "                                lr_params,\n",
    "                                cv=5,\n",
    "                                n_jobs=-1)\n",
    "\n",
    "model_lr_2_fit, yhat_train_lr_2, yhat_lr_2 = modelacion(model_lr_2, X_train, X_test, y_train, y_test)\n",
    "print('Mejores hiperparámetros:\\n', model_lr_2_fit.best_params_)\n",
    "\n",
    "# 12s"
   ]
  },
  {
   "cell_type": "markdown",
   "metadata": {},
   "source": [
    "### <span style=\"color:#87CEEB\"> KNeighborsClassifier"
   ]
  },
  {
   "cell_type": "code",
   "execution_count": 177,
   "metadata": {},
   "outputs": [
    {
     "name": "stdout",
     "output_type": "stream",
     "text": [
      "**** Métricas para modelo GridSearchCV(cv=5, estimator=KNeighborsClassifier(), n_jobs=-1,\n",
      "             param_grid={'algorithm': ['auto', 'ball_tree', 'kd_tree', 'brute'],\n",
      "                         'n_neighbors': [3, 5, 7, 9, 11], 'p': [1, 2],\n",
      "                         'weights': ['uniform', 'distance']}) ****\n",
      "\n",
      "Métricas en train:\n",
      "               precision    recall  f1-score   support\n",
      "\n",
      "           0       0.83      0.93      0.88       374\n",
      "           1       0.86      0.69      0.77       222\n",
      "\n",
      "    accuracy                           0.84       596\n",
      "   macro avg       0.85      0.81      0.82       596\n",
      "weighted avg       0.84      0.84      0.84       596\n",
      " \n",
      " ------------------------------------------------------- \n",
      " Métricas en test:\n",
      "               precision    recall  f1-score   support\n",
      "\n",
      "           0       0.82      0.91      0.86       175\n",
      "           1       0.85      0.71      0.77       120\n",
      "\n",
      "    accuracy                           0.83       295\n",
      "   macro avg       0.84      0.81      0.82       295\n",
      "weighted avg       0.83      0.83      0.83       295\n",
      " \n",
      " ______________________________________________________________________ \n",
      "\n",
      "Mejores hiperparámetros:\n",
      " {'algorithm': 'auto', 'n_neighbors': 9, 'p': 2, 'weights': 'uniform'}\n"
     ]
    }
   ],
   "source": [
    "knn_params = {\n",
    "    'n_neighbors': [3, 5, 7, 9, 11],\n",
    "    'weights': ['uniform', 'distance'],\n",
    "    'algorithm': ['auto', 'ball_tree', 'kd_tree', 'brute'],\n",
    "    'p': [1, 2]\n",
    "}\n",
    "\n",
    "model_knn_2 = GridSearchCV(KNeighborsClassifier(),\n",
    "                            knn_params,\n",
    "                            cv=5,\n",
    "                            n_jobs=-1)\n",
    "\n",
    "model_knn_2_fit, yhat_train_knn_2, yhat_knn_2 = modelacion(model_knn_2, X_train, X_test, y_train, y_test)\n",
    "print('Mejores hiperparámetros:\\n', model_knn_2_fit.best_params_)\n",
    "\n",
    "# 1s"
   ]
  },
  {
   "cell_type": "markdown",
   "metadata": {},
   "source": [
    "### <span style=\"color:#87CEEB\"> DecisionTreeClassifier"
   ]
  },
  {
   "cell_type": "code",
   "execution_count": 178,
   "metadata": {},
   "outputs": [
    {
     "name": "stdout",
     "output_type": "stream",
     "text": [
      "**** Métricas para modelo GridSearchCV(cv=5, estimator=DecisionTreeClassifier(random_state=42), n_jobs=-1,\n",
      "             param_grid={'max_depth': [None, 5, 10, 15, 20],\n",
      "                         'max_features': ['sqrt', 'log2', None],\n",
      "                         'min_samples_leaf': [1, 3, 5],\n",
      "                         'min_samples_split': [2, 5, 10]}) ****\n",
      "\n",
      "Métricas en train:\n",
      "               precision    recall  f1-score   support\n",
      "\n",
      "           0       0.86      0.91      0.89       374\n",
      "           1       0.84      0.76      0.80       222\n",
      "\n",
      "    accuracy                           0.86       596\n",
      "   macro avg       0.85      0.84      0.84       596\n",
      "weighted avg       0.85      0.86      0.85       596\n",
      " \n",
      " ------------------------------------------------------- \n",
      " Métricas en test:\n",
      "               precision    recall  f1-score   support\n",
      "\n",
      "           0       0.82      0.88      0.85       175\n",
      "           1       0.80      0.72      0.76       120\n",
      "\n",
      "    accuracy                           0.81       295\n",
      "   macro avg       0.81      0.80      0.80       295\n",
      "weighted avg       0.81      0.81      0.81       295\n",
      " \n",
      " ______________________________________________________________________ \n",
      "\n",
      "Mejores hiperparámetros:\n",
      " {'max_depth': 5, 'max_features': None, 'min_samples_leaf': 5, 'min_samples_split': 2}\n"
     ]
    }
   ],
   "source": [
    "dec_tree_params = {\n",
    "    'max_depth': [None, 5, 10, 15, 20],\n",
    "    'min_samples_split': [2, 5, 10],\n",
    "    'min_samples_leaf': [1, 3, 5],\n",
    "    'max_features': ['sqrt', 'log2', None]\n",
    "}\n",
    "\n",
    "model_dec_tree_2 = GridSearchCV(DecisionTreeClassifier(random_state=random_state),\n",
    "                            dec_tree_params,\n",
    "                            cv=5,\n",
    "                            n_jobs=-1)\n",
    "\n",
    "model_dec_tree_2_fit, yhat_train_dec_tree_2, yhat_dec_tree_2 = modelacion(model_dec_tree_2, X_train, X_test, y_train, y_test)\n",
    "print('Mejores hiperparámetros:\\n', model_dec_tree_2_fit.best_params_)\n",
    "\n",
    "# 1s"
   ]
  },
  {
   "cell_type": "markdown",
   "metadata": {},
   "source": [
    "### <span style=\"color:#87CEEB\"> RandomForestClassifier"
   ]
  },
  {
   "cell_type": "code",
   "execution_count": 179,
   "metadata": {},
   "outputs": [
    {
     "name": "stdout",
     "output_type": "stream",
     "text": [
      "**** Métricas para modelo GridSearchCV(cv=5, estimator=RandomForestClassifier(random_state=42), n_jobs=-1,\n",
      "             param_grid={'criterion': ['gini', 'entropy', 'log_loss'],\n",
      "                         'max_depth': [None, 10, 20, 30],\n",
      "                         'max_features': ['sqrt', 'log2', None],\n",
      "                         'min_samples_leaf': [1, 3, 5],\n",
      "                         'min_samples_split': [2, 5, 10],\n",
      "                         'n_estimators': [10, 50, 100]}) ****\n",
      "\n",
      "Métricas en train:\n",
      "               precision    recall  f1-score   support\n",
      "\n",
      "           0       0.87      0.95      0.91       374\n",
      "           1       0.90      0.77      0.83       222\n",
      "\n",
      "    accuracy                           0.88       596\n",
      "   macro avg       0.89      0.86      0.87       596\n",
      "weighted avg       0.88      0.88      0.88       596\n",
      " \n",
      " ------------------------------------------------------- \n",
      " Métricas en test:\n",
      "               precision    recall  f1-score   support\n",
      "\n",
      "           0       0.82      0.89      0.85       175\n",
      "           1       0.81      0.71      0.76       120\n",
      "\n",
      "    accuracy                           0.81       295\n",
      "   macro avg       0.81      0.80      0.80       295\n",
      "weighted avg       0.81      0.81      0.81       295\n",
      " \n",
      " ______________________________________________________________________ \n",
      "\n",
      "Mejores hiperparámetros:\n",
      " {'criterion': 'entropy', 'max_depth': 10, 'max_features': 'sqrt', 'min_samples_leaf': 3, 'min_samples_split': 2, 'n_estimators': 50}\n"
     ]
    }
   ],
   "source": [
    "rf_params = {\n",
    "    'n_estimators': [10, 50, 100],\n",
    "    'criterion': ['gini', 'entropy', 'log_loss'],\n",
    "    'max_depth': [None, 10, 20, 30],\n",
    "    'min_samples_split': [2, 5, 10],\n",
    "    'min_samples_leaf': [1, 3, 5],\n",
    "    'max_features': ['sqrt', 'log2', None]\n",
    "}\n",
    "\n",
    "model_rf_2 = GridSearchCV(RandomForestClassifier(random_state=random_state),\n",
    "                            rf_params,\n",
    "                            cv=5,\n",
    "                            n_jobs=-1)\n",
    "\n",
    "model_rf_2_fit, yhat_train_rf_2, yhat_rf_2 = modelacion(model_rf_2, X_train, X_test, y_train, y_test)\n",
    "print('Mejores hiperparámetros:\\n', model_rf_2_fit.best_params_)\n",
    "\n",
    "# 1min 3s"
   ]
  },
  {
   "cell_type": "markdown",
   "metadata": {},
   "source": [
    "### <span style=\"color:#87CEEB\"> SVC"
   ]
  },
  {
   "cell_type": "code",
   "execution_count": 180,
   "metadata": {},
   "outputs": [
    {
     "name": "stdout",
     "output_type": "stream",
     "text": [
      "**** Métricas para modelo GridSearchCV(cv=5, estimator=SVC(random_state=42), n_jobs=-1,\n",
      "             param_grid={'C': [0.1, 1, 10], 'gamma': ['scale', 'auto'],\n",
      "                         'kernel': ['linear', 'rbf', 'sigmoid'],\n",
      "                         'probability': [True, False]}) ****\n",
      "\n",
      "Métricas en train:\n",
      "               precision    recall  f1-score   support\n",
      "\n",
      "           0       0.84      0.94      0.89       374\n",
      "           1       0.87      0.70      0.78       222\n",
      "\n",
      "    accuracy                           0.85       596\n",
      "   macro avg       0.86      0.82      0.83       596\n",
      "weighted avg       0.85      0.85      0.85       596\n",
      " \n",
      " ------------------------------------------------------- \n",
      " Métricas en test:\n",
      "               precision    recall  f1-score   support\n",
      "\n",
      "           0       0.82      0.91      0.86       175\n",
      "           1       0.85      0.70      0.77       120\n",
      "\n",
      "    accuracy                           0.83       295\n",
      "   macro avg       0.83      0.81      0.81       295\n",
      "weighted avg       0.83      0.83      0.82       295\n",
      " \n",
      " ______________________________________________________________________ \n",
      "\n",
      "Mejores hiperparámetros:\n",
      " {'C': 1, 'gamma': 'scale', 'kernel': 'rbf', 'probability': True}\n"
     ]
    }
   ],
   "source": [
    "svc_params = {\n",
    "    'C': [0.1, 1, 10],\n",
    "    'kernel': ['linear', 'rbf', 'sigmoid'],\n",
    "    'gamma': ['scale', 'auto'],\n",
    "    'probability': [True, False]\n",
    "}\n",
    "\n",
    "model_svc_2 = GridSearchCV(SVC(random_state=random_state),\n",
    "                            svc_params,\n",
    "                            cv=5,\n",
    "                            n_jobs=-1)\n",
    "\n",
    "model_svc_2_fit, yhat_train_svc_2, yhat_svc_2 = modelacion(model_svc_2, X_train, X_test, y_train, y_test)\n",
    "print('Mejores hiperparámetros:\\n', model_svc_2_fit.best_params_)\n",
    "\n",
    "# 2s"
   ]
  },
  {
   "cell_type": "markdown",
   "metadata": {},
   "source": [
    "### <span style=\"color:#87CEEB\"> BernoulliNB"
   ]
  },
  {
   "cell_type": "code",
   "execution_count": 181,
   "metadata": {},
   "outputs": [
    {
     "name": "stdout",
     "output_type": "stream",
     "text": [
      "**** Métricas para modelo GridSearchCV(cv=5, estimator=BernoulliNB(), n_jobs=-1,\n",
      "             param_grid={'alpha': [0.01, 0.1, 0.5, 1.0, 2.0],\n",
      "                         'binarize': [None, 0.1, 0.5, 0.9],\n",
      "                         'fit_prior': [True, False]}) ****\n",
      "\n",
      "Métricas en train:\n",
      "               precision    recall  f1-score   support\n",
      "\n",
      "           0       0.84      0.83      0.84       374\n",
      "           1       0.72      0.73      0.73       222\n",
      "\n",
      "    accuracy                           0.80       596\n",
      "   macro avg       0.78      0.78      0.78       596\n",
      "weighted avg       0.80      0.80      0.80       596\n",
      " \n",
      " ------------------------------------------------------- \n",
      " Métricas en test:\n",
      "               precision    recall  f1-score   support\n",
      "\n",
      "           0       0.85      0.82      0.83       175\n",
      "           1       0.75      0.78      0.77       120\n",
      "\n",
      "    accuracy                           0.81       295\n",
      "   macro avg       0.80      0.80      0.80       295\n",
      "weighted avg       0.81      0.81      0.81       295\n",
      " \n",
      " ______________________________________________________________________ \n",
      "\n",
      "Mejores hiperparámetros:\n",
      " {'alpha': 0.01, 'binarize': 0.5, 'fit_prior': True}\n"
     ]
    }
   ],
   "source": [
    "bernoulli_params = {\n",
    "    'alpha': [ 0.01, 0.1, 0.5, 1.0, 2.0],\n",
    "    'binarize': [None, 0.1, 0.5, 0.9],\n",
    "    'fit_prior': [True, False]\n",
    "}\n",
    "\n",
    "model_bernoulli_2 = GridSearchCV(BernoulliNB(),\n",
    "                            bernoulli_params,\n",
    "                            cv=5,\n",
    "                            n_jobs=-1)\n",
    "\n",
    "model_bernoulli_2_fit, yhat_train_bernoulli_2, yhat_bernoulli_2 = modelacion(model_bernoulli_2, X_train, X_test, y_train, y_test)\n",
    "print('Mejores hiperparámetros:\\n', model_bernoulli_2_fit.best_params_)\n",
    "\n",
    "# 1s"
   ]
  },
  {
   "cell_type": "markdown",
   "metadata": {},
   "source": [
    "### <span style=\"color:#87CEEB\"> GradientBoostingClassifier"
   ]
  },
  {
   "cell_type": "code",
   "execution_count": 182,
   "metadata": {},
   "outputs": [
    {
     "name": "stdout",
     "output_type": "stream",
     "text": [
      "**** Métricas para modelo GridSearchCV(cv=5, estimator=GradientBoostingClassifier(random_state=42),\n",
      "             n_jobs=-1,\n",
      "             param_grid={'learning_rate': [0.01, 0.1, 0.5, 1, 5, 10],\n",
      "                         'max_depth': [3, 5, 7],\n",
      "                         'n_estimators': [100, 200, 300],\n",
      "                         'subsample': array([0.1, 0.2, 0.3, 0.4, 0.5, 0.6, 0.7, 0.8, 0.9, 1. ])}) ****\n",
      "\n",
      "Métricas en train:\n",
      "               precision    recall  f1-score   support\n",
      "\n",
      "           0       0.89      0.97      0.93       374\n",
      "           1       0.94      0.81      0.87       222\n",
      "\n",
      "    accuracy                           0.91       596\n",
      "   macro avg       0.92      0.89      0.90       596\n",
      "weighted avg       0.91      0.91      0.91       596\n",
      " \n",
      " ------------------------------------------------------- \n",
      " Métricas en test:\n",
      "               precision    recall  f1-score   support\n",
      "\n",
      "           0       0.83      0.90      0.86       175\n",
      "           1       0.83      0.73      0.78       120\n",
      "\n",
      "    accuracy                           0.83       295\n",
      "   macro avg       0.83      0.82      0.82       295\n",
      "weighted avg       0.83      0.83      0.83       295\n",
      " \n",
      " ______________________________________________________________________ \n",
      "\n",
      "Mejores hiperparámetros:\n",
      " {'learning_rate': 0.1, 'max_depth': 3, 'n_estimators': 100, 'subsample': 0.8}\n"
     ]
    }
   ],
   "source": [
    "gboost_params = {\n",
    "    'n_estimators': [100, 200, 300],\n",
    "    'learning_rate': [0.01, 0.1, 0.5, 1, 5, 10],\n",
    "    'subsample': np.linspace(0.1, 1.0, 10, endpoint=True, dtype=float),\n",
    "    'max_depth': [3, 5, 7]\n",
    "}\n",
    "\n",
    "model_gboost_2 = GridSearchCV(GradientBoostingClassifier(random_state=random_state),\n",
    "                            gboost_params,\n",
    "                            cv=5,\n",
    "                            n_jobs=-1)\n",
    "\n",
    "model_gboost_2_fit, yhat_train_gboost_2, yhat_gboost_2 = modelacion(model_gboost_2, X_train, X_test, y_train, y_test)\n",
    "print('Mejores hiperparámetros:\\n', model_gboost_2_fit.best_params_)\n",
    "\n",
    "# 2min"
   ]
  },
  {
   "cell_type": "markdown",
   "metadata": {},
   "source": [
    "## <span style=\"color:orange\"> 3ra iteración de modelación"
   ]
  },
  {
   "cell_type": "markdown",
   "metadata": {},
   "source": [
    "    Se utilizarán las mismas grillas de hiperparámetros."
   ]
  },
  {
   "cell_type": "markdown",
   "metadata": {},
   "source": [
    "#### <span style=\"color:#87CEEB\"> Balanceo de clases con SMOTE"
   ]
  },
  {
   "cell_type": "code",
   "execution_count": 183,
   "metadata": {},
   "outputs": [],
   "source": [
    "# Instanciamos la clase\n",
    "oversampler = SMOTE(random_state=random_state, sampling_strategy='minority')\n",
    "\n",
    "# Oversampling de los datos de entrenamiento\n",
    "X_train_oversamp, y_train_oversamp = oversampler.fit_resample(X_train, y_train)"
   ]
  },
  {
   "cell_type": "markdown",
   "metadata": {},
   "source": [
    "### <span style=\"color:#87CEEB\"> LogisticRegression"
   ]
  },
  {
   "cell_type": "code",
   "execution_count": 184,
   "metadata": {},
   "outputs": [
    {
     "name": "stdout",
     "output_type": "stream",
     "text": [
      "**** Métricas para modelo GridSearchCV(cv=5, estimator=LogisticRegression(random_state=42), n_jobs=-1,\n",
      "             param_grid={'C': [0.01, 0.1, 1, 10],\n",
      "                         'fit_intercept': [True, False],\n",
      "                         'max_iter': [10, 50, 100],\n",
      "                         'multi_class': ['auto', 'ovr', 'multinomial'],\n",
      "                         'penalty': ['l1', 'l2'],\n",
      "                         'solver': ['lbfgs', 'liblinear', 'newton-cg',\n",
      "                                    'newton-cholesky', 'sag', 'saga']}) ****\n",
      "\n",
      "Métricas en train:\n",
      "               precision    recall  f1-score   support\n",
      "\n",
      "           0       0.78      0.84      0.81       374\n",
      "           1       0.83      0.76      0.79       374\n",
      "\n",
      "    accuracy                           0.80       748\n",
      "   macro avg       0.81      0.80      0.80       748\n",
      "weighted avg       0.81      0.80      0.80       748\n",
      " \n",
      " ------------------------------------------------------- \n",
      " Métricas en test:\n",
      "               precision    recall  f1-score   support\n",
      "\n",
      "           0       0.86      0.82      0.84       175\n",
      "           1       0.76      0.81      0.78       120\n",
      "\n",
      "    accuracy                           0.82       295\n",
      "   macro avg       0.81      0.82      0.81       295\n",
      "weighted avg       0.82      0.82      0.82       295\n",
      " \n",
      " ______________________________________________________________________ \n",
      "\n",
      "Mejores hiperparámetros:\n",
      " {'C': 0.1, 'fit_intercept': True, 'max_iter': 10, 'multi_class': 'multinomial', 'penalty': 'l2', 'solver': 'newton-cg'}\n"
     ]
    }
   ],
   "source": [
    "lr_params = {\n",
    "    'penalty': ['l1', 'l2'],\n",
    "    'C': [0.01, 0.1, 1, 10],\n",
    "    'fit_intercept': [True, False],\n",
    "    #'class_weight': [None, 'balanced'], # ya se hizo balance de clases con SMOTE\n",
    "    'solver': ['lbfgs', 'liblinear', 'newton-cg', 'newton-cholesky', 'sag', 'saga'],\n",
    "    'multi_class': ['auto', 'ovr', 'multinomial'],\n",
    "    'max_iter': [10, 50, 100]\n",
    "}\n",
    "\n",
    "model_lr_3 = GridSearchCV(LogisticRegression(random_state=random_state),\n",
    "                                lr_params,\n",
    "                                cv=5,\n",
    "                                n_jobs=-1)\n",
    "\n",
    "model_lr_3_fit, yhat_train_lr_3, yhat_lr_3 = modelacion(model_lr_3, X_train_oversamp, X_test, y_train_oversamp, y_test)\n",
    "print('Mejores hiperparámetros:\\n', model_lr_3_fit.best_params_)\n",
    "\n",
    "# 5s"
   ]
  },
  {
   "cell_type": "markdown",
   "metadata": {},
   "source": [
    "### <span style=\"color:#87CEEB\"> KNeighborsClassifier"
   ]
  },
  {
   "cell_type": "code",
   "execution_count": 185,
   "metadata": {},
   "outputs": [
    {
     "name": "stdout",
     "output_type": "stream",
     "text": [
      "**** Métricas para modelo GridSearchCV(cv=5, estimator=KNeighborsClassifier(), n_jobs=-1,\n",
      "             param_grid={'algorithm': ['auto', 'ball_tree', 'kd_tree', 'brute'],\n",
      "                         'n_neighbors': [3, 5, 7, 9, 11], 'p': [1, 2],\n",
      "                         'weights': ['uniform', 'distance']}) ****\n",
      "\n",
      "Métricas en train:\n",
      "               precision    recall  f1-score   support\n",
      "\n",
      "           0       0.97      1.00      0.98       374\n",
      "           1       1.00      0.97      0.98       374\n",
      "\n",
      "    accuracy                           0.98       748\n",
      "   macro avg       0.98      0.98      0.98       748\n",
      "weighted avg       0.98      0.98      0.98       748\n",
      " \n",
      " ------------------------------------------------------- \n",
      " Métricas en test:\n",
      "               precision    recall  f1-score   support\n",
      "\n",
      "           0       0.86      0.79      0.83       175\n",
      "           1       0.73      0.82      0.77       120\n",
      "\n",
      "    accuracy                           0.80       295\n",
      "   macro avg       0.80      0.81      0.80       295\n",
      "weighted avg       0.81      0.80      0.80       295\n",
      " \n",
      " ______________________________________________________________________ \n",
      "\n",
      "Mejores hiperparámetros:\n",
      " {'algorithm': 'auto', 'n_neighbors': 5, 'p': 1, 'weights': 'distance'}\n"
     ]
    }
   ],
   "source": [
    "model_knn_3 = GridSearchCV(KNeighborsClassifier(),\n",
    "                            knn_params,\n",
    "                            cv=5,\n",
    "                            n_jobs=-1)\n",
    "\n",
    "model_knn_3_fit, yhat_train_knn_3, yhat_knn_3 = modelacion(model_knn_3, X_train_oversamp, X_test, y_train_oversamp, y_test)\n",
    "print('Mejores hiperparámetros:\\n', model_knn_3_fit.best_params_)\n",
    "\n",
    "# 1s"
   ]
  },
  {
   "cell_type": "markdown",
   "metadata": {},
   "source": [
    "### <span style=\"color:#87CEEB\"> DecisionTreeClassifier"
   ]
  },
  {
   "cell_type": "code",
   "execution_count": 186,
   "metadata": {},
   "outputs": [
    {
     "name": "stdout",
     "output_type": "stream",
     "text": [
      "**** Métricas para modelo GridSearchCV(cv=5, estimator=DecisionTreeClassifier(random_state=42), n_jobs=-1,\n",
      "             param_grid={'max_depth': [None, 5, 10, 15, 20],\n",
      "                         'max_features': ['sqrt', 'log2', None],\n",
      "                         'min_samples_leaf': [1, 3, 5],\n",
      "                         'min_samples_split': [2, 5, 10]}) ****\n",
      "\n",
      "Métricas en train:\n",
      "               precision    recall  f1-score   support\n",
      "\n",
      "           0       0.87      0.93      0.90       374\n",
      "           1       0.92      0.86      0.89       374\n",
      "\n",
      "    accuracy                           0.89       748\n",
      "   macro avg       0.89      0.89      0.89       748\n",
      "weighted avg       0.89      0.89      0.89       748\n",
      " \n",
      " ------------------------------------------------------- \n",
      " Métricas en test:\n",
      "               precision    recall  f1-score   support\n",
      "\n",
      "           0       0.83      0.83      0.83       175\n",
      "           1       0.76      0.75      0.75       120\n",
      "\n",
      "    accuracy                           0.80       295\n",
      "   macro avg       0.79      0.79      0.79       295\n",
      "weighted avg       0.80      0.80      0.80       295\n",
      " \n",
      " ______________________________________________________________________ \n",
      "\n",
      "Mejores hiperparámetros:\n",
      " {'max_depth': 10, 'max_features': None, 'min_samples_leaf': 5, 'min_samples_split': 2}\n"
     ]
    }
   ],
   "source": [
    "model_dec_tree_3 = GridSearchCV(DecisionTreeClassifier(random_state=random_state),\n",
    "                            dec_tree_params,\n",
    "                            cv=5,\n",
    "                            n_jobs=-1)\n",
    "\n",
    "model_dec_tree_3_fit, yhat_train_dec_tree_3, yhat_dec_tree_3 = modelacion(model_dec_tree_3, X_train_oversamp, X_test, y_train_oversamp, y_test)\n",
    "print('Mejores hiperparámetros:\\n', model_dec_tree_3_fit.best_params_)\n",
    "\n",
    "# 1s"
   ]
  },
  {
   "cell_type": "markdown",
   "metadata": {},
   "source": [
    "### <span style=\"color:#87CEEB\"> RandomForestClassifier"
   ]
  },
  {
   "cell_type": "code",
   "execution_count": 187,
   "metadata": {},
   "outputs": [
    {
     "name": "stdout",
     "output_type": "stream",
     "text": [
      "**** Métricas para modelo GridSearchCV(cv=5, estimator=RandomForestClassifier(random_state=42), n_jobs=-1,\n",
      "             param_grid={'criterion': ['gini', 'entropy', 'log_loss'],\n",
      "                         'max_depth': [None, 10, 20, 30],\n",
      "                         'max_features': ['sqrt', 'log2', None],\n",
      "                         'min_samples_leaf': [1, 3, 5],\n",
      "                         'min_samples_split': [2, 5, 10],\n",
      "                         'n_estimators': [10, 50, 100]}) ****\n",
      "\n",
      "Métricas en train:\n",
      "               precision    recall  f1-score   support\n",
      "\n",
      "           0       0.98      0.99      0.98       374\n",
      "           1       0.99      0.98      0.98       374\n",
      "\n",
      "    accuracy                           0.98       748\n",
      "   macro avg       0.98      0.98      0.98       748\n",
      "weighted avg       0.98      0.98      0.98       748\n",
      " \n",
      " ------------------------------------------------------- \n",
      " Métricas en test:\n",
      "               precision    recall  f1-score   support\n",
      "\n",
      "           0       0.84      0.79      0.81       175\n",
      "           1       0.72      0.78      0.75       120\n",
      "\n",
      "    accuracy                           0.79       295\n",
      "   macro avg       0.78      0.79      0.78       295\n",
      "weighted avg       0.79      0.79      0.79       295\n",
      " \n",
      " ______________________________________________________________________ \n",
      "\n",
      "Mejores hiperparámetros:\n",
      " {'criterion': 'gini', 'max_depth': None, 'max_features': 'sqrt', 'min_samples_leaf': 1, 'min_samples_split': 2, 'n_estimators': 50}\n"
     ]
    }
   ],
   "source": [
    "model_rf_3 = GridSearchCV(RandomForestClassifier(random_state=random_state),\n",
    "                            rf_params,\n",
    "                            cv=5,\n",
    "                            n_jobs=-1)\n",
    "\n",
    "model_rf_3_fit, yhat_train_rf_3, yhat_rf_3 = modelacion(model_rf_3, X_train_oversamp, X_test, y_train_oversamp, y_test)\n",
    "print('Mejores hiperparámetros:\\n', model_rf_3_fit.best_params_)\n",
    "\n",
    "# 1min 15s"
   ]
  },
  {
   "cell_type": "markdown",
   "metadata": {},
   "source": [
    "### <span style=\"color:#87CEEB\"> SVC"
   ]
  },
  {
   "cell_type": "code",
   "execution_count": 188,
   "metadata": {},
   "outputs": [
    {
     "name": "stdout",
     "output_type": "stream",
     "text": [
      "**** Métricas para modelo GridSearchCV(cv=5, estimator=SVC(random_state=42), n_jobs=-1,\n",
      "             param_grid={'C': [0.1, 1, 10], 'gamma': ['scale', 'auto'],\n",
      "                         'kernel': ['linear', 'rbf', 'sigmoid'],\n",
      "                         'probability': [True, False]}) ****\n",
      "\n",
      "Métricas en train:\n",
      "               precision    recall  f1-score   support\n",
      "\n",
      "           0       0.80      0.91      0.85       374\n",
      "           1       0.90      0.76      0.83       374\n",
      "\n",
      "    accuracy                           0.84       748\n",
      "   macro avg       0.85      0.84      0.84       748\n",
      "weighted avg       0.85      0.84      0.84       748\n",
      " \n",
      " ------------------------------------------------------- \n",
      " Métricas en test:\n",
      "               precision    recall  f1-score   support\n",
      "\n",
      "           0       0.84      0.87      0.86       175\n",
      "           1       0.81      0.76      0.78       120\n",
      "\n",
      "    accuracy                           0.83       295\n",
      "   macro avg       0.82      0.82      0.82       295\n",
      "weighted avg       0.83      0.83      0.83       295\n",
      " \n",
      " ______________________________________________________________________ \n",
      "\n",
      "Mejores hiperparámetros:\n",
      " {'C': 10, 'gamma': 'auto', 'kernel': 'rbf', 'probability': True}\n"
     ]
    }
   ],
   "source": [
    "model_svc_3 = GridSearchCV(SVC(random_state=random_state),\n",
    "                            svc_params,\n",
    "                            cv=5,\n",
    "                            n_jobs=-1)\n",
    "\n",
    "model_svc_3_fit, yhat_train_svc_3, yhat_svc_3 = modelacion(model_svc_3, X_train_oversamp, X_test, y_train_oversamp, y_test)\n",
    "print('Mejores hiperparámetros:\\n', model_svc_3_fit.best_params_)\n",
    "\n",
    "# 2s"
   ]
  },
  {
   "cell_type": "markdown",
   "metadata": {},
   "source": [
    "### <span style=\"color:#87CEEB\"> BernoulliNB"
   ]
  },
  {
   "cell_type": "code",
   "execution_count": 189,
   "metadata": {},
   "outputs": [
    {
     "name": "stdout",
     "output_type": "stream",
     "text": [
      "**** Métricas para modelo GridSearchCV(cv=5, estimator=BernoulliNB(), n_jobs=-1,\n",
      "             param_grid={'alpha': [0.01, 0.1, 0.5, 1.0, 2.0],\n",
      "                         'binarize': [None, 0.1, 0.5, 0.9],\n",
      "                         'fit_prior': [True, False]}) ****\n",
      "\n",
      "Métricas en train:\n",
      "               precision    recall  f1-score   support\n",
      "\n",
      "           0       0.76      0.80      0.78       374\n",
      "           1       0.79      0.75      0.77       374\n",
      "\n",
      "    accuracy                           0.77       748\n",
      "   macro avg       0.77      0.77      0.77       748\n",
      "weighted avg       0.77      0.77      0.77       748\n",
      " \n",
      " ------------------------------------------------------- \n",
      " Métricas en test:\n",
      "               precision    recall  f1-score   support\n",
      "\n",
      "           0       0.85      0.81      0.83       175\n",
      "           1       0.74      0.78      0.76       120\n",
      "\n",
      "    accuracy                           0.80       295\n",
      "   macro avg       0.79      0.80      0.79       295\n",
      "weighted avg       0.80      0.80      0.80       295\n",
      " \n",
      " ______________________________________________________________________ \n",
      "\n",
      "Mejores hiperparámetros:\n",
      " {'alpha': 1.0, 'binarize': 0.1, 'fit_prior': True}\n"
     ]
    }
   ],
   "source": [
    "model_bernoulli_3 = GridSearchCV(BernoulliNB(),\n",
    "                            bernoulli_params,\n",
    "                            cv=5,\n",
    "                            n_jobs=-1)\n",
    "\n",
    "model_bernoulli_3_fit, yhat_train_bernoulli_3, yhat_bernoulli_3 = modelacion(model_bernoulli_3, X_train_oversamp, X_test, y_train_oversamp, y_test)\n",
    "print('Mejores hiperparámetros:\\n', model_bernoulli_3_fit.best_params_)\n",
    "\n",
    "# 1s"
   ]
  },
  {
   "cell_type": "markdown",
   "metadata": {},
   "source": [
    "### <span style=\"color:#87CEEB\"> GradientBoostingClassifier"
   ]
  },
  {
   "cell_type": "code",
   "execution_count": 190,
   "metadata": {},
   "outputs": [
    {
     "name": "stdout",
     "output_type": "stream",
     "text": [
      "**** Métricas para modelo GridSearchCV(cv=5, estimator=GradientBoostingClassifier(random_state=42),\n",
      "             n_jobs=-1,\n",
      "             param_grid={'learning_rate': [0.01, 0.1, 0.5, 1, 5, 10],\n",
      "                         'max_depth': [3, 5, 7],\n",
      "                         'n_estimators': [100, 200, 300],\n",
      "                         'subsample': array([0.1, 0.2, 0.3, 0.4, 0.5, 0.6, 0.7, 0.8, 0.9, 1. ])}) ****\n",
      "\n",
      "Métricas en train:\n",
      "               precision    recall  f1-score   support\n",
      "\n",
      "           0       0.93      0.98      0.96       374\n",
      "           1       0.98      0.93      0.95       374\n",
      "\n",
      "    accuracy                           0.96       748\n",
      "   macro avg       0.96      0.96      0.96       748\n",
      "weighted avg       0.96      0.96      0.96       748\n",
      " \n",
      " ------------------------------------------------------- \n",
      " Métricas en test:\n",
      "               precision    recall  f1-score   support\n",
      "\n",
      "           0       0.84      0.86      0.85       175\n",
      "           1       0.79      0.77      0.78       120\n",
      "\n",
      "    accuracy                           0.82       295\n",
      "   macro avg       0.82      0.81      0.82       295\n",
      "weighted avg       0.82      0.82      0.82       295\n",
      " \n",
      " ______________________________________________________________________ \n",
      "\n",
      "Mejores hiperparámetros:\n",
      " {'learning_rate': 0.01, 'max_depth': 7, 'n_estimators': 300, 'subsample': 0.5}\n"
     ]
    }
   ],
   "source": [
    "model_gboost_3 = GridSearchCV(GradientBoostingClassifier(random_state=random_state),\n",
    "                            gboost_params,\n",
    "                            cv=5,\n",
    "                            n_jobs=-1)\n",
    "\n",
    "model_gboost_3_fit, yhat_train_gboost_3, yhat_gboost_3 = modelacion(model_gboost_3, X_train_oversamp, X_test, y_train_oversamp, y_test)\n",
    "print('Mejores hiperparámetros:\\n', model_gboost_3_fit.best_params_)\n",
    "\n",
    "# 2min 11s"
   ]
  },
  {
   "cell_type": "markdown",
   "metadata": {},
   "source": [
    "#### <span style=\"color:#87CEEB\"> VotingClassifier"
   ]
  },
  {
   "cell_type": "markdown",
   "metadata": {},
   "source": [
    "    Al realizar VotingClassifier se mejoró en 1% el puntaje máximo de accuracy obtenido previamente logrando un valor de 0.84. También mejorar las métricas de f1_score. Se observa que este modelo formado a partir de otros no hace overfitting a los datos ya que las métricas entre train y test son similares."
   ]
  },
  {
   "cell_type": "code",
   "execution_count": 191,
   "metadata": {},
   "outputs": [
    {
     "name": "stdout",
     "output_type": "stream",
     "text": [
      "**** Métricas para modelo VotingClassifier(estimators=[('LogisticRegression',\n",
      "                              LogisticRegression(C=0.1, max_iter=10,\n",
      "                                                 multi_class='multinomial',\n",
      "                                                 random_state=42,\n",
      "                                                 solver='newton-cg')),\n",
      "                             ('GradientBoostingClassifier',\n",
      "                              GradientBoostingClassifier(learning_rate=0.01,\n",
      "                                                         max_depth=7,\n",
      "                                                         n_estimators=300,\n",
      "                                                         random_state=42,\n",
      "                                                         subsample=0.5)),\n",
      "                             ('SVC',\n",
      "                              SVC(C=10, gamma='auto', probability=True,\n",
      "                                  random_state=42))],\n",
      "                 n_jobs=-1, voting='soft') ****\n",
      "\n",
      "Métricas en train:\n",
      "               precision    recall  f1-score   support\n",
      "\n",
      "           0       0.82      0.91      0.86       374\n",
      "           1       0.89      0.80      0.84       374\n",
      "\n",
      "    accuracy                           0.85       748\n",
      "   macro avg       0.86      0.85      0.85       748\n",
      "weighted avg       0.86      0.85      0.85       748\n",
      " \n",
      " ------------------------------------------------------- \n",
      " Métricas en test:\n",
      "               precision    recall  f1-score   support\n",
      "\n",
      "           0       0.85      0.88      0.87       175\n",
      "           1       0.82      0.78      0.79       120\n",
      "\n",
      "    accuracy                           0.84       295\n",
      "   macro avg       0.83      0.83      0.83       295\n",
      "weighted avg       0.84      0.84      0.84       295\n",
      " \n",
      " ______________________________________________________________________ \n",
      "\n"
     ]
    }
   ],
   "source": [
    "estimadores = [\n",
    "    ('LogisticRegression', model_lr_3_fit.best_estimator_),\n",
    "    ('GradientBoostingClassifier', model_gboost_3_fit.best_estimator_),\n",
    "    ('SVC', model_svc_3_fit.best_estimator_)\n",
    "]\n",
    "voting_model = VotingClassifier(estimators=estimadores,\n",
    "                                    voting='soft',\n",
    "                                    n_jobs=-1)\n",
    "\n",
    "model_voting_fit, yhat_train_voting, yhat_voting = modelacion(voting_model, X_train_oversamp, X_test, y_train_oversamp, y_test)\n",
    "\n",
    "# 1s"
   ]
  },
  {
   "cell_type": "markdown",
   "metadata": {},
   "source": [
    "## <span style=\"color:orange\"> Evaluación en la muestra de pruebas df_test"
   ]
  },
  {
   "cell_type": "code",
   "execution_count": 192,
   "metadata": {},
   "outputs": [
    {
     "data": {
      "text/html": [
       "<div>\n",
       "<style scoped>\n",
       "    .dataframe tbody tr th:only-of-type {\n",
       "        vertical-align: middle;\n",
       "    }\n",
       "\n",
       "    .dataframe tbody tr th {\n",
       "        vertical-align: top;\n",
       "    }\n",
       "\n",
       "    .dataframe thead th {\n",
       "        text-align: right;\n",
       "    }\n",
       "</style>\n",
       "<table border=\"1\" class=\"dataframe\">\n",
       "  <thead>\n",
       "    <tr style=\"text-align: right;\">\n",
       "      <th></th>\n",
       "      <th>PassengerId</th>\n",
       "      <th>Pclass</th>\n",
       "      <th>Sex</th>\n",
       "      <th>Age</th>\n",
       "      <th>SibSp</th>\n",
       "      <th>Parch</th>\n",
       "      <th>Fare</th>\n",
       "      <th>Embarked_C</th>\n",
       "      <th>Embarked_Q</th>\n",
       "      <th>Embarked_S</th>\n",
       "      <th>Title_Master</th>\n",
       "      <th>Title_Miss</th>\n",
       "      <th>Title_Mr</th>\n",
       "      <th>Title_Mrs</th>\n",
       "      <th>Title_Other</th>\n",
       "    </tr>\n",
       "  </thead>\n",
       "  <tbody>\n",
       "    <tr>\n",
       "      <th>0</th>\n",
       "      <td>892</td>\n",
       "      <td>3</td>\n",
       "      <td>1</td>\n",
       "      <td>34.5</td>\n",
       "      <td>0</td>\n",
       "      <td>0</td>\n",
       "      <td>7.8292</td>\n",
       "      <td>0</td>\n",
       "      <td>1</td>\n",
       "      <td>0</td>\n",
       "      <td>0</td>\n",
       "      <td>0</td>\n",
       "      <td>1</td>\n",
       "      <td>0</td>\n",
       "      <td>0</td>\n",
       "    </tr>\n",
       "  </tbody>\n",
       "</table>\n",
       "</div>"
      ],
      "text/plain": [
       "   PassengerId  Pclass  Sex   Age  SibSp  Parch    Fare  Embarked_C  \\\n",
       "0          892       3    1  34.5      0      0  7.8292           0   \n",
       "\n",
       "   Embarked_Q  Embarked_S  Title_Master  Title_Miss  Title_Mr  Title_Mrs  \\\n",
       "0           1           0             0           0         1          0   \n",
       "\n",
       "   Title_Other  \n",
       "0            0  "
      ]
     },
     "execution_count": 192,
     "metadata": {},
     "output_type": "execute_result"
    }
   ],
   "source": [
    "df_test.head(1)"
   ]
  },
  {
   "cell_type": "code",
   "execution_count": 193,
   "metadata": {},
   "outputs": [],
   "source": [
    "# muestra de prueba del dataset test.csv\n",
    "X_val = df_test.loc[:, 'Pclass':]\n",
    "\n",
    "# predicciones en dataset test.csv\n",
    "y_pred = model_voting_fit.predict(X_val)\n",
    "\n",
    "# Dataset submission\n",
    "submission = pd.DataFrame({'PassengerId': df_test['PassengerId'], 'Survived': y_pred})"
   ]
  },
  {
   "cell_type": "markdown",
   "metadata": {},
   "source": [
    "#### <span style=\"color:#87CEEB\"> Creación de archivo submission.csv solicitado en la competencia"
   ]
  },
  {
   "cell_type": "code",
   "execution_count": 194,
   "metadata": {},
   "outputs": [],
   "source": [
    "# guardado en archivo csv\n",
    "submission.to_csv('submission.csv', index=False)"
   ]
  }
 ],
 "metadata": {
  "kernelspec": {
   "display_name": "base",
   "language": "python",
   "name": "python3"
  },
  "language_info": {
   "codemirror_mode": {
    "name": "ipython",
    "version": 3
   },
   "file_extension": ".py",
   "mimetype": "text/x-python",
   "name": "python",
   "nbconvert_exporter": "python",
   "pygments_lexer": "ipython3",
   "version": "3.9.16"
  },
  "orig_nbformat": 4
 },
 "nbformat": 4,
 "nbformat_minor": 2
}
